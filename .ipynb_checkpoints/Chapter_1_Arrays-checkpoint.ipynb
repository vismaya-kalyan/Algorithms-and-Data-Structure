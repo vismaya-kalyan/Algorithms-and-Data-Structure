{
 "cells": [
  {
   "cell_type": "markdown",
   "metadata": {},
   "source": [
    "# Arrays\n",
    "## Chapter - 1"
   ]
  },
  {
   "cell_type": "markdown",
   "metadata": {},
   "source": [
    "# IsUnique\n",
    "1.1 Implement an algorithm to determine if a string has all unique characters. What if you cannot use additional datastructure?"
   ]
  },
  {
   "cell_type": "code",
   "execution_count": 6,
   "metadata": {},
   "outputs": [
    {
     "data": {
      "text/plain": [
       "False"
      ]
     },
     "execution_count": 6,
     "metadata": {},
     "output_type": "execute_result"
    }
   ],
   "source": [
    "class Solution:\n",
    "    def isUnique(self, data):\n",
    "        count = 0\n",
    "        mapper ={}\n",
    "        for i in data.lower():\n",
    "            if i not in mapper:\n",
    "                mapper[i]= 1\n",
    "            else:\n",
    "                count= mapper[i]\n",
    "                mapper[i]=count +1\n",
    "        for i in mapper.values():\n",
    "            if i >= 2:\n",
    "                return False\n",
    "        return True\n",
    "    \n",
    "sol = Solution()\n",
    "data = \"TactCoa\"\n",
    "ans = sol.isUnique(data)\n",
    "ans       "
   ]
  },
  {
   "cell_type": "markdown",
   "metadata": {},
   "source": [
    "# Check Permutation\n",
    "1.2 Given two strings, write a method to decide if one is a permutation of the other"
   ]
  },
  {
   "cell_type": "code",
   "execution_count": 26,
   "metadata": {},
   "outputs": [
    {
     "name": "stdout",
     "output_type": "stream",
     "text": [
      "a\n",
      "p\n",
      "e\n",
      "r\n",
      "r\n",
      "e\n"
     ]
    },
    {
     "data": {
      "text/plain": [
       "False"
      ]
     },
     "execution_count": 26,
     "metadata": {},
     "output_type": "execute_result"
    }
   ],
   "source": [
    "class Solution:\n",
    "    def permutation(self, str1, str2):\n",
    "        count = 0\n",
    "        mapper={}\n",
    "        for i,j in zip(str1,str2):\n",
    "            print(i)\n",
    "            print(j)\n",
    "            if i not in mapper:\n",
    "                mapper[i]= 1\n",
    "            else:\n",
    "                count= mapper[i]\n",
    "                mapper[i]=count +1\n",
    "                \n",
    "            if j not in mapper:\n",
    "                mapper[j]= -1                \n",
    "            else:\n",
    "                count= mapper[j]\n",
    "                mapper[j]=count - 1\n",
    "        for key,val in mapper.items():\n",
    "            if val!=0:\n",
    "                return False\n",
    "        return True\n",
    "                \n",
    "        \n",
    "            \n",
    "sol = Solution()\n",
    "str1 =\"aer\"\n",
    "str2 =\"pre\"\n",
    "ans = sol.permutation(str1,str2)\n",
    "ans       "
   ]
  },
  {
   "cell_type": "markdown",
   "metadata": {},
   "source": [
    "# URLify\n",
    "1.3 Write a method to replace all spaces in a string with '%20'. You may assume that the string has sufficient space at the end to hold the additional characters, and that you are given the true length of the string\n",
    "\n",
    "Input: \"Mr 3ohn Smith    13\"\n",
    "\n",
    "Output: \"Mr%203ohn%20Smith%2013\""
   ]
  },
  {
   "cell_type": "code",
   "execution_count": 4,
   "metadata": {},
   "outputs": [
    {
     "ename": "TypeError",
     "evalue": "'str' object does not support item assignment",
     "output_type": "error",
     "traceback": [
      "\u001b[1;31m---------------------------------------------------------------------------\u001b[0m",
      "\u001b[1;31mTypeError\u001b[0m                                 Traceback (most recent call last)",
      "\u001b[1;32m<ipython-input-4-78270e5a7c0a>\u001b[0m in \u001b[0;36m<module>\u001b[1;34m\u001b[0m\n\u001b[0;32m     29\u001b[0m \u001b[0minp\u001b[0m \u001b[1;33m=\u001b[0m\u001b[1;34m\"Mr 3ohn  Smith\"\u001b[0m\u001b[1;33m\u001b[0m\u001b[1;33m\u001b[0m\u001b[0m\n\u001b[0;32m     30\u001b[0m \u001b[0mlength\u001b[0m\u001b[1;33m=\u001b[0m \u001b[1;36m13\u001b[0m\u001b[1;33m\u001b[0m\u001b[1;33m\u001b[0m\u001b[0m\n\u001b[1;32m---> 31\u001b[1;33m \u001b[0mans\u001b[0m \u001b[1;33m=\u001b[0m \u001b[0msol\u001b[0m\u001b[1;33m.\u001b[0m\u001b[0murlify\u001b[0m\u001b[1;33m(\u001b[0m\u001b[0minp\u001b[0m\u001b[1;33m,\u001b[0m \u001b[0mlength\u001b[0m\u001b[1;33m)\u001b[0m\u001b[1;33m\u001b[0m\u001b[1;33m\u001b[0m\u001b[0m\n\u001b[0m\u001b[0;32m     32\u001b[0m \u001b[0mans\u001b[0m\u001b[1;33m\u001b[0m\u001b[1;33m\u001b[0m\u001b[0m\n",
      "\u001b[1;32m<ipython-input-4-78270e5a7c0a>\u001b[0m in \u001b[0;36murlify\u001b[1;34m(self, string, length)\u001b[0m\n\u001b[0;32m     21\u001b[0m             \u001b[1;32melse\u001b[0m\u001b[1;33m:\u001b[0m\u001b[1;33m\u001b[0m\u001b[1;33m\u001b[0m\u001b[0m\n\u001b[0;32m     22\u001b[0m                 \u001b[1;31m# Move characters\u001b[0m\u001b[1;33m\u001b[0m\u001b[1;33m\u001b[0m\u001b[1;33m\u001b[0m\u001b[0m\n\u001b[1;32m---> 23\u001b[1;33m                 \u001b[0mstring\u001b[0m\u001b[1;33m[\u001b[0m\u001b[0mnew_index\u001b[0m \u001b[1;33m-\u001b[0m \u001b[1;36m1\u001b[0m\u001b[1;33m]\u001b[0m \u001b[1;33m=\u001b[0m \u001b[0mstring\u001b[0m\u001b[1;33m[\u001b[0m\u001b[0mi\u001b[0m\u001b[1;33m]\u001b[0m\u001b[1;33m\u001b[0m\u001b[1;33m\u001b[0m\u001b[0m\n\u001b[0m\u001b[0;32m     24\u001b[0m                 \u001b[0mnew_index\u001b[0m \u001b[1;33m-=\u001b[0m \u001b[1;36m1\u001b[0m\u001b[1;33m\u001b[0m\u001b[1;33m\u001b[0m\u001b[0m\n\u001b[0;32m     25\u001b[0m \u001b[1;33m\u001b[0m\u001b[0m\n",
      "\u001b[1;31mTypeError\u001b[0m: 'str' object does not support item assignment"
     ]
    }
   ],
   "source": [
    "import re\n",
    "class Solution:\n",
    "    def url(self, inp):            \n",
    "        inp = re.sub(' +', ' ', inp)\n",
    "        output = []\n",
    "        for i in inp:\n",
    "            if i == \" \":\n",
    "                i = '%20'\n",
    "            output.append(i)\n",
    "        return ''.join(output)  \n",
    "    \n",
    "    def urlify(self ,string, length):\n",
    "    \n",
    "        new_index = len(string)\n",
    "\n",
    "        for i in reversed(range(length)):\n",
    "            if string[i] == ' ':\n",
    "                # Replace spaces\n",
    "                string[new_index - 3:new_index] = '%20'\n",
    "                new_index -= 3\n",
    "            else:\n",
    "                # Move characters\n",
    "                string[new_index - 1] = string[i]\n",
    "                new_index -= 1\n",
    "\n",
    "        return string\n",
    "            \n",
    "sol = Solution()\n",
    "inp =\"Mr 3ohn  Smith\"\n",
    "length= 13\n",
    "ans = sol.urlify(inp, length)\n",
    "ans   "
   ]
  },
  {
   "cell_type": "markdown",
   "metadata": {},
   "source": [
    "# Palindrome Permutation\n",
    "1.4 Given a string, write a func to check if it is a permutation of a palindrome."
   ]
  },
  {
   "cell_type": "code",
   "execution_count": 7,
   "metadata": {},
   "outputs": [],
   "source": [
    "class Solution:\n",
    "    def check_palindrome(self, lis):\n",
    "        dicc={}\n",
    "        count=0\n",
    "        for i in list(lis):\n",
    "            i = i.lower()\n",
    "            if i == \" \":\n",
    "                continue\n",
    "            elif i not in dicc:\n",
    "                dicc[i]= 1\n",
    "            else:\n",
    "                count=dicc[i]\n",
    "                dicc[i]=count+1\n",
    "        singly=0\n",
    "        for key,val in dicc.items():\n",
    "            print(\"key\",key)\n",
    "            print(\"val\",val)\n",
    "            if val%2 != 0:\n",
    "                singly += 1\n",
    "        \n",
    "        if singly==1 or singly==0:\n",
    "            return True\n",
    "        else :\n",
    "            return False"
   ]
  },
  {
   "cell_type": "code",
   "execution_count": 8,
   "metadata": {},
   "outputs": [
    {
     "name": "stdout",
     "output_type": "stream",
     "text": [
      "key t\n",
      "val 2\n",
      "key a\n",
      "val 2\n",
      "key c\n",
      "val 2\n",
      "key o\n",
      "val 1\n"
     ]
    },
    {
     "data": {
      "text/plain": [
       "True"
      ]
     },
     "execution_count": 8,
     "metadata": {},
     "output_type": "execute_result"
    }
   ],
   "source": [
    "sol = Solution()\n",
    "lis = \"Tact Coa\"\n",
    "ans = sol.check_palindrome(lis)\n",
    "ans"
   ]
  },
  {
   "cell_type": "markdown",
   "metadata": {},
   "source": [
    "# One away\n",
    "1.5  There are three types of edits that can be performed on strings: insert a character,\n",
    "remove a character, or replace a character. Given two strings, write a function to check if they are\n",
    "one edit (or zero edits) away. "
   ]
  },
  {
   "cell_type": "code",
   "execution_count": 35,
   "metadata": {},
   "outputs": [],
   "source": [
    "class Solution:\n",
    "    def is_replace(self, old,new):\n",
    "        replace = 0\n",
    "        if old==new:\n",
    "            return True\n",
    "        else:\n",
    "            for x,y in zip(new,old):\n",
    "                if x!=y:\n",
    "                    replace += 1\n",
    "            if replace <= 1:\n",
    "                return True\n",
    "            else:\n",
    "                return False\n",
    "            \n",
    "    def is_add(self,big,smol):\n",
    "        i = 0\n",
    "        j = 0 \n",
    "        add = 0\n",
    "        while i < len(big) and j < len(smol):\n",
    "            if big[i] != smol[j]:\n",
    "                i += 1\n",
    "                add += 1\n",
    "            else:\n",
    "                i+=1\n",
    "                j+=1\n",
    "        if add <= 1:\n",
    "            return True\n",
    "        else:\n",
    "            return False\n",
    "            \n",
    "    def oneAway(self, old, new):\n",
    "        if len(old)==len(new):\n",
    "            return self.is_replace(old, new)\n",
    "        elif len(old)+1 == len(new):\n",
    "            return self.is_add(new,old)\n",
    "        elif len(old)-1 == len(new):\n",
    "            return self.is_add(old,new)\n",
    "        else:\n",
    "            return False                 \n",
    "                "
   ]
  },
  {
   "cell_type": "code",
   "execution_count": 36,
   "metadata": {},
   "outputs": [
    {
     "data": {
      "text/plain": [
       "True"
      ]
     },
     "execution_count": 36,
     "metadata": {},
     "output_type": "execute_result"
    }
   ],
   "source": [
    "sol = Solution()\n",
    "old = \"pal\"\n",
    "new = \"pale\"\n",
    "ans = sol.oneAway(old,new)\n",
    "ans"
   ]
  },
  {
   "cell_type": "markdown",
   "metadata": {},
   "source": [
    "# String Compression\n",
    "1.6 Implement a method to perform basic string compression using the counts\n",
    "of repeated characters. For example, the string aabcccccaaa would become a2b1c5a3. If the\n",
    "\"compressed\" string would not become smaller than the original string, your method should return\n",
    "the original string. You can assume the string has only uppercase and lowercase letters (a - z). "
   ]
  },
  {
   "cell_type": "code",
   "execution_count": 31,
   "metadata": {},
   "outputs": [
    {
     "data": {
      "text/plain": [
       "'abc'"
      ]
     },
     "execution_count": 31,
     "metadata": {},
     "output_type": "execute_result"
    }
   ],
   "source": [
    "class Solution:\n",
    "    def string_comparision(self, og):\n",
    "        dicc={og[0]:1}\n",
    "        count=1\n",
    "        compressed =\"\"\n",
    "        prev =og[0]\n",
    "        for i in range(1,len(og)):\n",
    "            if og[i] == prev:\n",
    "                count=dicc[og[i]]\n",
    "                dicc[og[i]]=count+1\n",
    "            else:\n",
    "                compressed +=prev\n",
    "                compressed +=str(dicc[prev])\n",
    "                del dicc[prev]\n",
    "                prev = og[i]\n",
    "                dicc[og[i]] =1\n",
    "        compressed +=prev\n",
    "        compressed +=str(dicc[prev])\n",
    "        if len(compressed)< len(og):\n",
    "            return compressed\n",
    "        else:\n",
    "            return og\n",
    "       \n",
    "sol = Solution()\n",
    "st = \"abc\"\n",
    "ans = sol.string_comparision(st)\n",
    "ans              "
   ]
  },
  {
   "cell_type": "markdown",
   "metadata": {},
   "source": [
    "# Zero Matrix: \n",
    "1.8 Write an algorithm such that if an element in an MxN matrix is 0, its entire row and\n",
    "column are set to 0. "
   ]
  },
  {
   "cell_type": "code",
   "execution_count": 2,
   "metadata": {},
   "outputs": [
    {
     "data": {
      "text/plain": [
       "[[1, 2, 0], [0, 0, 0], [6, 7, 0], [0, 0, 0]]"
      ]
     },
     "execution_count": 2,
     "metadata": {},
     "output_type": "execute_result"
    }
   ],
   "source": [
    "class Solution:\n",
    "    def zero_matrix(self, mat):\n",
    "        i_set = set()\n",
    "        j_set = set()\n",
    "        for i in range(len(mat)):\n",
    "            for j in range(len(mat[0])):\n",
    "                if mat[i][j]==0:\n",
    "                    i_set.add(i)\n",
    "                    j_set.add(j)\n",
    "                    \n",
    "        for i in i_set:\n",
    "            for j in range(len(mat[0])):\n",
    "                mat[i][j]=0\n",
    "                \n",
    "        for j in j_set:\n",
    "            for i in range(len(mat)):\n",
    "                mat[i][j]=0\n",
    "                \n",
    "        return mat\n",
    "       \n",
    "sol = Solution()\n",
    "mat = [[1,2,3],\n",
    "       [4,5,0],\n",
    "       [6,7,8],\n",
    "       [1,9,0]]\n",
    "ans = sol.zero_matrix(mat)\n",
    "ans              "
   ]
  },
  {
   "cell_type": "markdown",
   "metadata": {},
   "source": [
    "# String Rotation\n",
    "1.9 Assume you have a method isSubst ring which checks if one word is a substring\n",
    "of another. Given two strings, 51 and 52, write code to check if 52 is a rotation of 51 using only one\n",
    "call to isSubstring (e.g., \"waterbottle\" is a rotation of\"erbottlewat\"). "
   ]
  },
  {
   "cell_type": "code",
   "execution_count": 33,
   "metadata": {},
   "outputs": [
    {
     "data": {
      "text/plain": [
       "False"
      ]
     },
     "execution_count": 33,
     "metadata": {},
     "output_type": "execute_result"
    }
   ],
   "source": [
    "class Solution:\n",
    "    def string_rotation(self, st1,st2):\n",
    "        temp = st1+st1\n",
    "        if temp.count(st2)>0:\n",
    "            return True\n",
    "        else:\n",
    "            return False\n",
    "       \n",
    "sol = Solution()\n",
    "st1 = \"abc\"\n",
    "st2 = \"bac\"\n",
    "ans = sol.string_rotation(st1,st2)\n",
    "ans              "
   ]
  },
  {
   "cell_type": "markdown",
   "metadata": {},
   "source": []
  },
  {
   "cell_type": "code",
   "execution_count": null,
   "metadata": {},
   "outputs": [],
   "source": []
  }
 ],
 "metadata": {
  "kernelspec": {
   "display_name": "Python 3",
   "language": "python",
   "name": "python3"
  },
  "language_info": {
   "codemirror_mode": {
    "name": "ipython",
    "version": 3
   },
   "file_extension": ".py",
   "mimetype": "text/x-python",
   "name": "python",
   "nbconvert_exporter": "python",
   "pygments_lexer": "ipython3",
   "version": "3.7.4"
  }
 },
 "nbformat": 4,
 "nbformat_minor": 2
}
