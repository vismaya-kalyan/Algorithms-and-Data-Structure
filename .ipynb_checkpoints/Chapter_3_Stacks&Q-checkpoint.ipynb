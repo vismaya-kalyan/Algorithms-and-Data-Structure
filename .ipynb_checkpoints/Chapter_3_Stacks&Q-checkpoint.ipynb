{
 "cells": [
  {
   "cell_type": "markdown",
   "metadata": {},
   "source": [
    "# Stacks and Queues \n",
    "\n",
    "# Chapter - 3"
   ]
  },
  {
   "cell_type": "markdown",
   "metadata": {},
   "source": [
    "Stacks implementation using Lists"
   ]
  },
  {
   "cell_type": "code",
   "execution_count": 12,
   "metadata": {},
   "outputs": [],
   "source": [
    "class Stack:\n",
    "    def __init__(self):\n",
    "        self.arr = []\n",
    "        \n",
    "    def push(self,n):\n",
    "        self.arr.append(n)\n",
    "        \n",
    "    def pop(self):\n",
    "        return self.arr.pop()\n",
    "        \n",
    "    def isEmpty(self):\n",
    "        print(self.arr)\n",
    "        if len(self.arr)>0:\n",
    "            return False\n",
    "        else:\n",
    "            return True\n",
    "                "
   ]
  },
  {
   "cell_type": "code",
   "execution_count": 25,
   "metadata": {},
   "outputs": [
    {
     "name": "stdout",
     "output_type": "stream",
     "text": [
      "[3, 2]\n"
     ]
    },
    {
     "data": {
      "text/plain": [
       "False"
      ]
     },
     "execution_count": 25,
     "metadata": {},
     "output_type": "execute_result"
    }
   ],
   "source": [
    "sol = Stack()\n",
    "sol.push(3)\n",
    "sol.push(2)\n",
    "sol.push(7)\n",
    "sol.pop()\n",
    "sol.isEmpty()"
   ]
  },
  {
   "cell_type": "markdown",
   "metadata": {},
   "source": [
    "Queue implementation using Lists"
   ]
  },
  {
   "cell_type": "code",
   "execution_count": 21,
   "metadata": {},
   "outputs": [],
   "source": [
    "class Queue:\n",
    "    def __init__(self):\n",
    "        self.arr=[]\n",
    "        \n",
    "    def add(self, n):\n",
    "        self.arr.append(n)\n",
    "        \n",
    "    def remove(self):\n",
    "        del self.arr[0]\n",
    "        \n",
    "    def isEmpty(self):\n",
    "        print(self.arr)\n",
    "        if len(self.arr)>0:\n",
    "            return False\n",
    "        else:\n",
    "            return True"
   ]
  },
  {
   "cell_type": "code",
   "execution_count": 24,
   "metadata": {},
   "outputs": [
    {
     "name": "stdout",
     "output_type": "stream",
     "text": [
      "[2, 3]\n",
      "[3]\n"
     ]
    },
    {
     "data": {
      "text/plain": [
       "False"
      ]
     },
     "execution_count": 24,
     "metadata": {},
     "output_type": "execute_result"
    }
   ],
   "source": [
    "sol = Queue()\n",
    "sol.add(1)\n",
    "sol.add(2)\n",
    "sol.add(3)\n",
    "sol.remove()\n",
    "sol.isEmpty()\n",
    "sol.remove()\n",
    "sol.isEmpty()"
   ]
  },
  {
   "cell_type": "markdown",
   "metadata": {},
   "source": [
    "# From the actual ctci book"
   ]
  },
  {
   "cell_type": "markdown",
   "metadata": {},
   "source": [
    "# Three in One\n",
    "3.1 Describe how you could use a single array to implement three stacks. "
   ]
  },
  {
   "cell_type": "code",
   "execution_count": null,
   "metadata": {},
   "outputs": [],
   "source": [
    "class threeInOne:\n",
    "    def __init__(self):\n",
    "        arr = [None,None,None]\n",
    "        cur = [0,1,2]\n",
    "    \n",
    "    def push(self,value,stack_id):\n",
    "        if stack_id\n",
    "        \n",
    "        \n",
    "        \n",
    "    \n",
    "sol = threeInOne()"
   ]
  },
  {
   "cell_type": "markdown",
   "metadata": {},
   "source": [
    "# Stack Min \n",
    "3.2 How would you design a stack which, in addition to push and pop, has a function min\n",
    "which returns the minimum element? Push, pop and min should all operate in 0(1) time. "
   ]
  },
  {
   "cell_type": "code",
   "execution_count": 53,
   "metadata": {},
   "outputs": [
    {
     "name": "stdout",
     "output_type": "stream",
     "text": [
      "[3, 2, -1, -2]\n",
      "[3, 2, -1]\n"
     ]
    },
    {
     "data": {
      "text/plain": [
       "-1"
      ]
     },
     "execution_count": 53,
     "metadata": {},
     "output_type": "execute_result"
    }
   ],
   "source": [
    "class Stack:\n",
    "    def __init__(self):\n",
    "        self.arr = []\n",
    "        self.store = []\n",
    "        self.minimum = float('inf')\n",
    "        \n",
    "    def push(self,n):\n",
    "        if n < self.minimum:\n",
    "            self.minimum = n\n",
    "            self.store.append(n)\n",
    "        self.arr.append(n)\n",
    "        \n",
    "    def pop(self):\n",
    "        if self.arr[-1] == self.store[-1]:\n",
    "            self.store.pop()\n",
    "            self.minimum = self.store[-1]     \n",
    "        return self.arr.pop()\n",
    "        \n",
    "    def isMin(self):\n",
    "        return self.minimum\n",
    "    \n",
    "    def isEmpty(self):\n",
    "        print(self.arr)\n",
    "        if len(self.arr)>0:\n",
    "            return False\n",
    "        else:\n",
    "            return True\n",
    "    \n",
    "sol = Stack()\n",
    "sol.push(3)\n",
    "sol.push(2)\n",
    "sol.push(-1)\n",
    "sol.push(-2)\n",
    "sol.isEmpty()\n",
    "sol.isMin()\n",
    "sol.pop()\n",
    "sol.isEmpty()\n",
    "sol.isMin()"
   ]
  },
  {
   "cell_type": "code",
   "execution_count": null,
   "metadata": {},
   "outputs": [],
   "source": []
  }
 ],
 "metadata": {
  "kernelspec": {
   "display_name": "Python 3",
   "language": "python",
   "name": "python3"
  },
  "language_info": {
   "codemirror_mode": {
    "name": "ipython",
    "version": 3
   },
   "file_extension": ".py",
   "mimetype": "text/x-python",
   "name": "python",
   "nbconvert_exporter": "python",
   "pygments_lexer": "ipython3",
   "version": "3.7.4"
  }
 },
 "nbformat": 4,
 "nbformat_minor": 2
}
