{
 "cells": [
  {
   "cell_type": "markdown",
   "metadata": {},
   "source": [
    "# Chapter - 8\n",
    "\n",
    "# Recursion and Dynamic Programming"
   ]
  },
  {
   "cell_type": "markdown",
   "metadata": {},
   "source": [
    "# Triple Step\n",
    "8.1  A child is running up a staircase with n steps and can hop either 1 step, 2 steps, or 3\n",
    "steps at a time. Implement a method to count how many possible ways the child can run up the\n",
    "stairs. "
   ]
  },
  {
   "cell_type": "code",
   "execution_count": 61,
   "metadata": {},
   "outputs": [
    {
     "data": {
      "text/plain": [
       "13"
      ]
     },
     "execution_count": 61,
     "metadata": {},
     "output_type": "execute_result"
    }
   ],
   "source": [
    "class Solution:\n",
    "    def triple_step(self , n):\n",
    "        output = [1,1,2]\n",
    "        for i in range(3,n+1):\n",
    "            output.append(output[i-3] +output[i-2]+output[i-1])\n",
    "        return output[n]\n",
    "    \n",
    "sol = Solution()\n",
    "sol.triple_step(5)\n",
    "        "
   ]
  },
  {
   "cell_type": "markdown",
   "metadata": {},
   "source": [
    "# Robot in a Grid: \n",
    "8.2 Imagine a robot sitting on the upper left corner of grid with r rows and c columns.\n",
    "The robot can only move in two directions, right and down, but certain cells are \"off limits\" such that\n",
    "the robot cannot step on them. Design an algorithm to find a path for the robot from the top left to\n",
    "the bottom right. "
   ]
  },
  {
   "cell_type": "code",
   "execution_count": 46,
   "metadata": {},
   "outputs": [
    {
     "name": "stdout",
     "output_type": "stream",
     "text": [
      "['start', 'down', 'down', 'right', 'right', 'reached']\n",
      "ans None\n"
     ]
    }
   ],
   "source": [
    "class Solution:\n",
    "    def robo(self, i, j, mat,output):       \n",
    "        if not self.if_down(i,j,mat) and not self.if_right(i,j,mat):\n",
    "            if i == len(mat)-1 and j == len(mat[0])-1:\n",
    "                output.append(\"reached\")\n",
    "                print(output)\n",
    "                return output\n",
    "            else:\n",
    "                output.pop()\n",
    "                print(\"No Path\")\n",
    "                return output\n",
    "        elif not self.if_down(i,j,mat) :\n",
    "            output.append(\"right\")\n",
    "            self.robo( i, j+1, mat, output)\n",
    "        elif not self.if_right(i,j,mat):\n",
    "            output.append(\"down\")\n",
    "            self.robo( i+1, j, mat, output)\n",
    "        else:\n",
    "            output.append(\"down\")\n",
    "            self.robo( i+1, j, mat, output)\n",
    "            \n",
    "    def if_down(self, i , j ,mat):\n",
    "        if i+1 < len(mat) and j<len(mat[0]):\n",
    "            if mat[i+1][j] == 0:\n",
    "                return True\n",
    "            else:\n",
    "                return False\n",
    "        else:\n",
    "            return False\n",
    "    \n",
    "    def if_right(self, i ,j ,mat):\n",
    "        if i < len(mat) and j +1 <len(mat[0]):\n",
    "            if mat[i][j+1] == 0:\n",
    "                return True\n",
    "            else:\n",
    "                return False\n",
    "        else:\n",
    "            return False\n",
    "            \n",
    "    def grid_problem(self):\n",
    "        matrix =[[0,0,0],[0,1,1],[0,0,0]]\n",
    "        i =0 \n",
    "        j =0\n",
    "        output =[\"start\"]\n",
    "        ans = self.robo(i,j,matrix,output)\n",
    "        print(\"ans\",ans)\n",
    "        return ans\n",
    "    \n",
    "    \n",
    "sol = Solution()\n",
    "ans = sol.grid_problem()"
   ]
  },
  {
   "cell_type": "markdown",
   "metadata": {},
   "source": [
    "# Magic Index \n",
    "8.3 A magic index in an array A [0 ... n -1] is defined to be an index such that A[ i] =\n",
    "i. Given a sorted array of distinct integers, write a method to find a magic index, if one exists, in\n",
    "array A. "
   ]
  },
  {
   "cell_type": "code",
   "execution_count": 53,
   "metadata": {},
   "outputs": [
    {
     "name": "stdout",
     "output_type": "stream",
     "text": [
      "3\n"
     ]
    }
   ],
   "source": [
    "class Solution:\n",
    "    def magic_index(self, A, start, end):\n",
    "        mid = int((start + end)/2)\n",
    "        if A[mid] == mid:\n",
    "            print(mid)\n",
    "            return\n",
    "        elif A[mid] < mid:\n",
    "            self.magic_index(A,mid+1,end)\n",
    "        else:\n",
    "            self.magic_index(A,start,mid-1)\n",
    "            \n",
    "    def call_recc(self):\n",
    "        A =[-2,0,1,3,5]\n",
    "        ans = self.magic_index(A,0,len(A))\n",
    "        return ans\n",
    "    \n",
    "sol = Solution()\n",
    "sol.call_recc()"
   ]
  },
  {
   "cell_type": "markdown",
   "metadata": {},
   "source": [
    "# Power Set\n",
    "8.4  Write a method to return all subsets of a set"
   ]
  },
  {
   "cell_type": "code",
   "execution_count": 119,
   "metadata": {},
   "outputs": [
    {
     "name": "stdout",
     "output_type": "stream",
     "text": [
      "WIFS {frozenset()}\n",
      "addition frozenset({'a'})\n",
      "WIFS {frozenset(), frozenset({'a'})}\n",
      "addition frozenset({'b'})\n",
      "addition frozenset({'a', 'b'})\n",
      "WIFS {frozenset(), frozenset({'a', 'b'}), frozenset({'b'}), frozenset({'a'})}\n"
     ]
    },
    {
     "data": {
      "text/plain": [
       "{frozenset(), frozenset({'b'}), frozenset({'a'}), frozenset({'a', 'b'})}"
      ]
     },
     "execution_count": 119,
     "metadata": {},
     "output_type": "execute_result"
    }
   ],
   "source": [
    "from itertools import combinations\n",
    "# # this is not the way as we are using combinations and not using other concepts\n",
    "# class Solution:\n",
    "#     def power_set(self, s):\n",
    "#         output = []\n",
    "#         for i in range(1,len(s)+1):\n",
    "#             els = [set(x) for x in combinations(s, i)]\n",
    "#             output.extend(els)\n",
    "#         return output\n",
    "\n",
    "# when set comes try to think in terms of set\n",
    "class Solution:\n",
    "    def power_set(self, s): \n",
    "        ps = {frozenset()}\n",
    "        print(\"WIFS\",ps)\n",
    "        for element in s:\n",
    "            additions = set()\n",
    "            for subset in ps:\n",
    "                additions.add(subset.union(element))\n",
    "                print(\"addition\",subset.union(element))\n",
    "            ps = ps.union(additions)\n",
    "            print(\"WIFS\",ps)\n",
    "            \n",
    "        return ps\n",
    "            \n",
    "sol = Solution()\n",
    "s = set()\n",
    "s.add(\"a\")\n",
    "s.add(\"b\")\n",
    "output = []\n",
    "ans = sol.power_set(s)\n",
    "ans"
   ]
  },
  {
   "cell_type": "markdown",
   "metadata": {},
   "source": []
  }
 ],
 "metadata": {
  "kernelspec": {
   "display_name": "Python 3",
   "language": "python",
   "name": "python3"
  },
  "language_info": {
   "codemirror_mode": {
    "name": "ipython",
    "version": 3
   },
   "file_extension": ".py",
   "mimetype": "text/x-python",
   "name": "python",
   "nbconvert_exporter": "python",
   "pygments_lexer": "ipython3",
   "version": "3.7.4"
  }
 },
 "nbformat": 4,
 "nbformat_minor": 2
}
