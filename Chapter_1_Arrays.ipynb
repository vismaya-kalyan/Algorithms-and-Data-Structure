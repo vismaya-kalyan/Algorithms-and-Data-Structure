{
 "cells": [
  {
   "cell_type": "markdown",
   "metadata": {},
   "source": [
    "# Arrays\n",
    "## Chapter - 1"
   ]
  },
  {
   "cell_type": "markdown",
   "metadata": {},
   "source": [
    "# IsUnique\n",
    "1.1 Implement an algorithm to determine if a string has all unique characters. What if you cannot use additional datastructure?"
   ]
  },
  {
   "cell_type": "code",
   "execution_count": 6,
   "metadata": {},
   "outputs": [
    {
     "data": {
      "text/plain": [
       "False"
      ]
     },
     "execution_count": 6,
     "metadata": {},
     "output_type": "execute_result"
    }
   ],
   "source": [
    "class Solution:\n",
    "    def isUnique(self, data):\n",
    "        count = 0\n",
    "        mapper ={}\n",
    "        for i in data.lower():\n",
    "            if i not in mapper:\n",
    "                mapper[i]= 1\n",
    "            else:\n",
    "                count= mapper[i]\n",
    "                mapper[i]=count +1\n",
    "        for i in mapper.values():\n",
    "            if i >= 2:\n",
    "                return False\n",
    "        return True\n",
    "    \n",
    "sol = Solution()\n",
    "data = \"TactCoa\"\n",
    "ans = sol.isUnique(data)\n",
    "ans       "
   ]
  },
  {
   "cell_type": "markdown",
   "metadata": {},
   "source": [
    "# Check Permutation\n",
    "1.2 Given two strings, write a method to decide if one is a permutation of the other"
   ]
  },
  {
   "cell_type": "code",
   "execution_count": 26,
   "metadata": {},
   "outputs": [
    {
     "name": "stdout",
     "output_type": "stream",
     "text": [
      "a\n",
      "p\n",
      "e\n",
      "r\n",
      "r\n",
      "e\n"
     ]
    },
    {
     "data": {
      "text/plain": [
       "False"
      ]
     },
     "execution_count": 26,
     "metadata": {},
     "output_type": "execute_result"
    }
   ],
   "source": [
    "class Solution:\n",
    "    def permutation(self, str1, str2):\n",
    "        count = 0\n",
    "        mapper={}\n",
    "        for i,j in zip(str1,str2):\n",
    "            print(i)\n",
    "            print(j)\n",
    "            if i not in mapper:\n",
    "                mapper[i]= 1\n",
    "            else:\n",
    "                count= mapper[i]\n",
    "                mapper[i]=count +1\n",
    "                \n",
    "            if j not in mapper:\n",
    "                mapper[j]= -1                \n",
    "            else:\n",
    "                count= mapper[j]\n",
    "                mapper[j]=count - 1\n",
    "        for key,val in mapper.items():\n",
    "            if val!=0:\n",
    "                return False\n",
    "        return True\n",
    "                \n",
    "        \n",
    "            \n",
    "sol = Solution()\n",
    "str1 =\"aer\"\n",
    "str2 =\"pre\"\n",
    "ans = sol.permutation(str1,str2)\n",
    "ans       "
   ]
  },
  {
   "cell_type": "markdown",
   "metadata": {},
   "source": [
    "# URLify\n",
    "1.3 Write a method to replace all spaces in a string with '%20'. You may assume that the string has sufficient space at the end to hold the additional characters, and that you are given the true length of the string\n",
    "\n",
    "Input: \"Mr 3ohn Smith    13\"\n",
    "\n",
    "Output: \"Mr%203ohn%20Smith%2013\""
   ]
  },
  {
   "cell_type": "code",
   "execution_count": 35,
   "metadata": {},
   "outputs": [
    {
     "ename": "TypeError",
     "evalue": "'str' object does not support item assignment",
     "output_type": "error",
     "traceback": [
      "\u001b[1;31m---------------------------------------------------------------------------\u001b[0m",
      "\u001b[1;31mTypeError\u001b[0m                                 Traceback (most recent call last)",
      "\u001b[1;32m<ipython-input-35-0c22a6fc2594>\u001b[0m in \u001b[0;36m<module>\u001b[1;34m\u001b[0m\n\u001b[0;32m     29\u001b[0m \u001b[0minp\u001b[0m \u001b[1;33m=\u001b[0m\u001b[1;34m\"Mr 3ohn Smith\"\u001b[0m\u001b[1;33m\u001b[0m\u001b[1;33m\u001b[0m\u001b[0m\n\u001b[0;32m     30\u001b[0m \u001b[0mlength\u001b[0m\u001b[1;33m=\u001b[0m \u001b[1;36m13\u001b[0m\u001b[1;33m\u001b[0m\u001b[1;33m\u001b[0m\u001b[0m\n\u001b[1;32m---> 31\u001b[1;33m \u001b[0mans\u001b[0m \u001b[1;33m=\u001b[0m \u001b[0msol\u001b[0m\u001b[1;33m.\u001b[0m\u001b[0murlify\u001b[0m\u001b[1;33m(\u001b[0m\u001b[0minp\u001b[0m\u001b[1;33m,\u001b[0m \u001b[0mlength\u001b[0m\u001b[1;33m)\u001b[0m\u001b[1;33m\u001b[0m\u001b[1;33m\u001b[0m\u001b[0m\n\u001b[0m\u001b[0;32m     32\u001b[0m \u001b[0mans\u001b[0m\u001b[1;33m\u001b[0m\u001b[1;33m\u001b[0m\u001b[0m\n",
      "\u001b[1;32m<ipython-input-35-0c22a6fc2594>\u001b[0m in \u001b[0;36murlify\u001b[1;34m(self, string, length)\u001b[0m\n\u001b[0;32m     21\u001b[0m             \u001b[1;32melse\u001b[0m\u001b[1;33m:\u001b[0m\u001b[1;33m\u001b[0m\u001b[1;33m\u001b[0m\u001b[0m\n\u001b[0;32m     22\u001b[0m                 \u001b[1;31m# Move characters\u001b[0m\u001b[1;33m\u001b[0m\u001b[1;33m\u001b[0m\u001b[1;33m\u001b[0m\u001b[0m\n\u001b[1;32m---> 23\u001b[1;33m                 \u001b[0mstring\u001b[0m\u001b[1;33m[\u001b[0m\u001b[0mnew_index\u001b[0m \u001b[1;33m-\u001b[0m \u001b[1;36m1\u001b[0m\u001b[1;33m]\u001b[0m \u001b[1;33m=\u001b[0m \u001b[0mstring\u001b[0m\u001b[1;33m[\u001b[0m\u001b[0mi\u001b[0m\u001b[1;33m]\u001b[0m\u001b[1;33m\u001b[0m\u001b[1;33m\u001b[0m\u001b[0m\n\u001b[0m\u001b[0;32m     24\u001b[0m                 \u001b[0mnew_index\u001b[0m \u001b[1;33m-=\u001b[0m \u001b[1;36m1\u001b[0m\u001b[1;33m\u001b[0m\u001b[1;33m\u001b[0m\u001b[0m\n\u001b[0;32m     25\u001b[0m \u001b[1;33m\u001b[0m\u001b[0m\n",
      "\u001b[1;31mTypeError\u001b[0m: 'str' object does not support item assignment"
     ]
    }
   ],
   "source": [
    "import re\n",
    "class Solution:\n",
    "    def url(self, inp):            \n",
    "        inp = re.sub(' +', ' ', inp)\n",
    "        output = []\n",
    "        for i in inp:\n",
    "            if i == \" \":\n",
    "                i = '%20'\n",
    "            output.append(i)\n",
    "        return ''.join(output)  \n",
    "    \n",
    "    def urlify(self, string, length):\n",
    "        '''function replaces single spaces with %20 and removes trailing spaces'''\n",
    "        new_index = len(string)\n",
    "\n",
    "        for i in reversed(range(length)):\n",
    "            if string[i] == ' ':\n",
    "                # Replace spaces\n",
    "                string[new_index - 3:new_index] = '%20'\n",
    "                new_index -= 3\n",
    "            else:\n",
    "                # Move characters\n",
    "                string[new_index - 1] = string[i]\n",
    "                new_index -= 1\n",
    "\n",
    "        return string\n",
    "            \n",
    "sol = Solution()\n",
    "inp =\"Mr 3ohn  Smith\"\n",
    "length= 13\n",
    "ans = sol.urlify(inp, length)\n",
    "ans   "
   ]
  },
  {
   "cell_type": "markdown",
   "metadata": {},
   "source": [
    "# Palindrome Permutation\n",
    "1.4 Given a string, write a func to check if it is a permutation of a palindrome."
   ]
  },
  {
   "cell_type": "code",
   "execution_count": 17,
   "metadata": {},
   "outputs": [],
   "source": [
    "class Solution:\n",
    "    def check_palindrome(self, lis):\n",
    "        dicc={}\n",
    "        count=0\n",
    "        for i in list(lis):\n",
    "            i = i.lower()\n",
    "            if i == \" \":\n",
    "                continue\n",
    "            elif i not in dicc:\n",
    "                dicc[i]= 1\n",
    "            else:\n",
    "                count=dicc[i]\n",
    "                dicc[i]=count+1\n",
    "        singly=0\n",
    "        for key,val in dicc.items():\n",
    "            print(\"key\",key)\n",
    "            print(\"val\",val)\n",
    "            if val%2 != 0:\n",
    "                singly += 1\n",
    "        \n",
    "        if singly==1 or singly==0:\n",
    "            return True\n",
    "        else :\n",
    "            return False"
   ]
  },
  {
   "cell_type": "code",
   "execution_count": 18,
   "metadata": {},
   "outputs": [
    {
     "name": "stdout",
     "output_type": "stream",
     "text": [
      "key t\n",
      "val 2\n",
      "key a\n",
      "val 2\n",
      "key c\n",
      "val 2\n",
      "key o\n",
      "val 1\n"
     ]
    },
    {
     "data": {
      "text/plain": [
       "True"
      ]
     },
     "execution_count": 18,
     "metadata": {},
     "output_type": "execute_result"
    }
   ],
   "source": [
    "sol = Solution()\n",
    "lis = \"Tact Coa\"\n",
    "ans = sol.check_palindrome(lis)\n",
    "ans"
   ]
  },
  {
   "cell_type": "markdown",
   "metadata": {},
   "source": [
    "# One away\n",
    "1.5 "
   ]
  },
  {
   "cell_type": "code",
   "execution_count": 35,
   "metadata": {},
   "outputs": [],
   "source": [
    "class Solution:\n",
    "    def is_replace(self, old,new):\n",
    "        replace = 0\n",
    "        if old==new:\n",
    "            return True\n",
    "        else:\n",
    "            for x,y in zip(new,old):\n",
    "                if x!=y:\n",
    "                    replace += 1\n",
    "            if replace <= 1:\n",
    "                return True\n",
    "            else:\n",
    "                return False\n",
    "            \n",
    "    def is_add(self,big,smol):\n",
    "        i = 0\n",
    "        j = 0 \n",
    "        add = 0\n",
    "        while i < len(big) and j < len(smol):\n",
    "            if big[i] != smol[j]:\n",
    "                i += 1\n",
    "                add += 1\n",
    "            else:\n",
    "                i+=1\n",
    "                j+=1\n",
    "        if add <= 1:\n",
    "            return True\n",
    "        else:\n",
    "            return False\n",
    "            \n",
    "    def oneAway(self, old, new):\n",
    "        if len(old)==len(new):\n",
    "            return self.is_replace(old, new)\n",
    "        elif len(old)+1 == len(new):\n",
    "            return self.is_add(new,old)\n",
    "        elif len(old)-1 == len(new):\n",
    "            return self.is_add(old,new)\n",
    "        else:\n",
    "            return False                 \n",
    "                "
   ]
  },
  {
   "cell_type": "code",
   "execution_count": 36,
   "metadata": {},
   "outputs": [
    {
     "data": {
      "text/plain": [
       "True"
      ]
     },
     "execution_count": 36,
     "metadata": {},
     "output_type": "execute_result"
    }
   ],
   "source": [
    "sol = Solution()\n",
    "old = \"pal\"\n",
    "new = \"pale\"\n",
    "ans = sol.oneAway(old,new)\n",
    "ans"
   ]
  },
  {
   "cell_type": "code",
   "execution_count": null,
   "metadata": {},
   "outputs": [],
   "source": []
  }
 ],
 "metadata": {
  "kernelspec": {
   "display_name": "Python 3",
   "language": "python",
   "name": "python3"
  },
  "language_info": {
   "codemirror_mode": {
    "name": "ipython",
    "version": 3
   },
   "file_extension": ".py",
   "mimetype": "text/x-python",
   "name": "python",
   "nbconvert_exporter": "python",
   "pygments_lexer": "ipython3",
   "version": "3.7.4"
  }
 },
 "nbformat": 4,
 "nbformat_minor": 2
}
