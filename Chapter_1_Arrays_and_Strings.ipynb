{
 "cells": [
  {
   "cell_type": "markdown",
   "metadata": {},
   "source": [
    "# Arrays and Strings\n",
    "## Chapter - 1"
   ]
  },
  {
   "cell_type": "code",
   "execution_count": 1,
   "metadata": {},
   "outputs": [],
   "source": [
    "import collections"
   ]
  },
  {
   "cell_type": "markdown",
   "metadata": {},
   "source": [
    "# IsUnique\n",
    "1.1 Implement an algorithm to determine if a string has all unique characters."
   ]
  },
  {
   "cell_type": "code",
   "execution_count": 2,
   "metadata": {},
   "outputs": [
    {
     "data": {
      "text/plain": [
       "False"
      ]
     },
     "execution_count": 2,
     "metadata": {},
     "output_type": "execute_result"
    }
   ],
   "source": [
    "class Solution:\n",
    "    def isUnique(self, data):\n",
    "        mapper = set()\n",
    "        for i in data.lower():\n",
    "            if i not in mapper:\n",
    "                mapper.add(i)\n",
    "            else:\n",
    "                return False\n",
    "        return True\n",
    "    \n",
    "sol = Solution()\n",
    "data = \"TactCoa\"\n",
    "ans = sol.isUnique(data)\n",
    "ans       "
   ]
  },
  {
   "cell_type": "markdown",
   "metadata": {},
   "source": [
    "# Check Permutation\n",
    "1.2 Given two strings, write a method to decide if one is a permutation of the other"
   ]
  },
  {
   "cell_type": "code",
   "execution_count": 3,
   "metadata": {},
   "outputs": [
    {
     "data": {
      "text/plain": [
       "True"
      ]
     },
     "execution_count": 3,
     "metadata": {},
     "output_type": "execute_result"
    }
   ],
   "source": [
    "class Solution:\n",
    "    def permutation(self, str1, str2):\n",
    "        count = 0\n",
    "        mapper = collections.Counter(str1)\n",
    "        for j in str2:\n",
    "            if j not in mapper:\n",
    "                mapper[j] = -1                \n",
    "            else:\n",
    "                count = mapper[j]\n",
    "                mapper[j] = count - 1\n",
    "                \n",
    "        for key, val in mapper.items():\n",
    "            if val != 0:\n",
    "                return False\n",
    "        return True\n",
    "                \n",
    "        \n",
    "            \n",
    "sol = Solution()\n",
    "str1 = \"per\"\n",
    "str2 = \"pre\"\n",
    "ans = sol.permutation(str1, str2)\n",
    "ans       "
   ]
  },
  {
   "cell_type": "markdown",
   "metadata": {},
   "source": [
    "# URLify\n",
    "1.3 Write a method to replace all spaces in a string with '%20'. You may assume that the string has sufficient space at the end to hold the additional characters, and that you are given the true length of the string\n",
    "\n",
    "Input: \"Mr 3ohn Smith    \"\n",
    "\n",
    "Output: \"Mr%203ohn%20Smith\""
   ]
  },
  {
   "cell_type": "code",
   "execution_count": 4,
   "metadata": {},
   "outputs": [
    {
     "data": {
      "text/plain": [
       "'Mr%20John%20Smith'"
      ]
     },
     "execution_count": 4,
     "metadata": {},
     "output_type": "execute_result"
    }
   ],
   "source": [
    "import re\n",
    "class Solution:\n",
    "    def url(self, string, length):\n",
    "        string = list(string)\n",
    "        j = length-1\n",
    "        i = len(string)-1\n",
    "        while i != 0 and j != 0:\n",
    "            if string[j] == ' ':\n",
    "                string[i-2], string[i-1], string[i] = '%','2', '0'\n",
    "                i -= 3\n",
    "                j -= 1\n",
    "            else:\n",
    "                string[i] = string[j]\n",
    "                i -= 1\n",
    "                j -= 1\n",
    "        return ''.join(string)\n",
    "     \n",
    "        \n",
    "sol = Solution()\n",
    "inp =\"Mr John Smith    \"\n",
    "length= 13\n",
    "ans = sol.url(inp, length)\n",
    "ans   "
   ]
  },
  {
   "cell_type": "markdown",
   "metadata": {},
   "source": [
    "# Palindrome Permutation\n",
    "1.4 Given a string, write a func to check if it is a permutation of a palindrome."
   ]
  },
  {
   "cell_type": "code",
   "execution_count": 5,
   "metadata": {},
   "outputs": [
    {
     "data": {
      "text/plain": [
       "True"
      ]
     },
     "execution_count": 5,
     "metadata": {},
     "output_type": "execute_result"
    }
   ],
   "source": [
    "class Solution:\n",
    "    def check_palindrome(self, lis):\n",
    "\n",
    "        dicc = collections.Counter(lis.lower())                \n",
    "        dicc.pop(' ', None)\n",
    "      \n",
    "        singly=0\n",
    "        for val in dicc.values():\n",
    "            if val%2 != 0:\n",
    "                singly += 1\n",
    "        \n",
    "        if singly == 1 or singly == 0:\n",
    "            return True\n",
    "        \n",
    "        return False\n",
    "    \n",
    "sol = Solution()\n",
    "lis = \"Tact Coa\"\n",
    "ans = sol.check_palindrome(lis)\n",
    "ans"
   ]
  },
  {
   "cell_type": "markdown",
   "metadata": {},
   "source": [
    "# One away\n",
    "1.5  There are three types of edits that can be performed on strings: insert a character,\n",
    "remove a character, or replace a character. Given two strings, write a function to check if they are\n",
    "one edit (or zero edits) away. "
   ]
  },
  {
   "cell_type": "code",
   "execution_count": 6,
   "metadata": {},
   "outputs": [
    {
     "data": {
      "text/plain": [
       "True"
      ]
     },
     "execution_count": 6,
     "metadata": {},
     "output_type": "execute_result"
    }
   ],
   "source": [
    "class Solution:\n",
    "    def is_replace(self, old, new):\n",
    "        replace = 0\n",
    "        if old == new:\n",
    "            return True\n",
    "        else:\n",
    "            for x, y in zip(new, old):\n",
    "                if x != y:\n",
    "                    replace += 1\n",
    "            if replace <= 1:\n",
    "                return True\n",
    "            else:\n",
    "                return False\n",
    "            \n",
    "    def is_add(self, big, smol):\n",
    "        i = 0\n",
    "        j = 0 \n",
    "        add = 0\n",
    "        while i < len(big) and j < len(smol):\n",
    "            if big[i] != smol[j]:\n",
    "                i += 1\n",
    "                add += 1\n",
    "            else:\n",
    "                i += 1\n",
    "                j += 1\n",
    "        if add <= 1:\n",
    "            return True\n",
    "        else:\n",
    "            return False\n",
    "            \n",
    "    def oneAway(self, old, new):\n",
    "        if len(old) == len(new):\n",
    "            return self.is_replace(old, new)\n",
    "        elif len(old) + 1 == len(new):\n",
    "            return self.is_add(new, old)\n",
    "        elif len(old) - 1 == len(new):\n",
    "            return self.is_add(old, new)\n",
    "        else:\n",
    "            return False                 \n",
    "        \n",
    "sol = Solution()\n",
    "old = \"pal\"\n",
    "new = \"pale\"\n",
    "ans = sol.oneAway(old, new)\n",
    "ans"
   ]
  },
  {
   "cell_type": "markdown",
   "metadata": {},
   "source": [
    "# String Compression\n",
    "1.6 Implement a method to perform basic string compression using the counts\n",
    "of repeated characters. For example, the string aabcccccaaa would become a2b1c5a3. If the\n",
    "\"compressed\" string would not become smaller than the original string, your method should return\n",
    "the original string. You can assume the string has only uppercase and lowercase letters (a - z). "
   ]
  },
  {
   "cell_type": "code",
   "execution_count": 7,
   "metadata": {},
   "outputs": [
    {
     "data": {
      "text/plain": [
       "'a1b5c1'"
      ]
     },
     "execution_count": 7,
     "metadata": {},
     "output_type": "execute_result"
    }
   ],
   "source": [
    "class Solution:\n",
    "    def string_comparision(self, og):\n",
    "        prev, prev_count = og[0], 1\n",
    "        compressed = \"\"\n",
    "        for i in range(1, len(og)):\n",
    "            if og[i] == prev:\n",
    "                prev_count += 1\n",
    "            else:\n",
    "                compressed += prev + str(prev_count)\n",
    "                prev = og[i]\n",
    "                prev_count = 1\n",
    "        compressed += prev + str(prev_count)\n",
    "        \n",
    "        if len(compressed) < len(og):\n",
    "            return compressed\n",
    "        return og\n",
    "       \n",
    "sol = Solution()\n",
    "st = \"abbbbbc\"\n",
    "ans = sol.string_comparision(st)\n",
    "ans              "
   ]
  },
  {
   "cell_type": "markdown",
   "metadata": {},
   "source": [
    "# Rotate Matrix\n",
    "1.7 Given an image represented by an N*M matrix where each pixel in the image is 4 bytes, write a method to rotate the image by 90 degree. can  you do this in place"
   ]
  },
  {
   "cell_type": "code",
   "execution_count": 8,
   "metadata": {},
   "outputs": [
    {
     "data": {
      "text/plain": [
       "[[4, 7, 2, 3], [3, 0, 8, 0], [2, 5, 7, 9], [1, 4, 6, 1]]"
      ]
     },
     "execution_count": 8,
     "metadata": {},
     "output_type": "execute_result"
    }
   ],
   "source": [
    "class Solution:\n",
    "    def zero_matrix(self, mat, N):\n",
    "        for x in range(0, int(N / 2)): \n",
    "            for y in range(x, N-x-1): \n",
    "                temp = mat[x][y] \n",
    "\n",
    "                # move values from right to top \n",
    "                mat[x][y] = mat[y][N-1-x] \n",
    "\n",
    "                # move values from bottom to right \n",
    "                mat[y][N-1-x] = mat[N-1-x][N-1-y] \n",
    "\n",
    "                # move values from left to bottom \n",
    "                mat[N-1-x][N-1-y] = mat[N-1-y][x] \n",
    "\n",
    "                # assign temp to left \n",
    "                mat[N-1-y][x] = temp \n",
    "        return mat\n",
    "    \n",
    "# Refer : https://www.geeksforgeeks.org/inplace-rotate-square-matrix-by-90-degrees/ \n",
    "sol = Solution()\n",
    "mat = [[1,2,3,4],\n",
    "       [4,5,0,7],\n",
    "       [6,7,8,2],\n",
    "       [1,9,0,3]]\n",
    "ans = sol.zero_matrix(mat, 4)\n",
    "ans"
   ]
  },
  {
   "cell_type": "markdown",
   "metadata": {},
   "source": [
    "# Zero Matrix: \n",
    "1.8 Write an algorithm such that if an element in an MxN matrix is 0, its entire row and\n",
    "column are set to 0. "
   ]
  },
  {
   "cell_type": "code",
   "execution_count": 9,
   "metadata": {},
   "outputs": [
    {
     "data": {
      "text/plain": [
       "[[1, 2, 0], [0, 0, 0], [6, 7, 0], [0, 0, 0]]"
      ]
     },
     "execution_count": 9,
     "metadata": {},
     "output_type": "execute_result"
    }
   ],
   "source": [
    "class Solution:\n",
    "    def zero_matrix(self, mat):\n",
    "        i_set = set()\n",
    "        j_set = set()\n",
    "        for i in range(len(mat)):\n",
    "            for j in range(len(mat[0])):\n",
    "                if mat[i][j] == 0:\n",
    "                    i_set.add(i)\n",
    "                    j_set.add(j)\n",
    "                    \n",
    "        for i in i_set:\n",
    "            for j in range(len(mat[0])):\n",
    "                mat[i][j] = 0\n",
    "                \n",
    "        for j in j_set:\n",
    "            for i in range(len(mat)):\n",
    "                mat[i][j] = 0\n",
    "                \n",
    "        return mat\n",
    "       \n",
    "sol = Solution()\n",
    "mat = [[1,2,3],\n",
    "       [4,5,0],\n",
    "       [6,7,8],\n",
    "       [1,9,0]]\n",
    "ans = sol.zero_matrix(mat)\n",
    "ans              "
   ]
  },
  {
   "cell_type": "markdown",
   "metadata": {},
   "source": [
    "# String Rotation\n",
    "1.9 Assume you have a method isSubst ring which checks if one word is a substring\n",
    "of another. Given two strings, 51 and 52, write code to check if 52 is a rotation of 51 using only one\n",
    "call to isSubstring (e.g., \"waterbottle\" is a rotation of\"erbottlewat\"). "
   ]
  },
  {
   "cell_type": "code",
   "execution_count": 10,
   "metadata": {},
   "outputs": [
    {
     "data": {
      "text/plain": [
       "True"
      ]
     },
     "execution_count": 10,
     "metadata": {},
     "output_type": "execute_result"
    }
   ],
   "source": [
    "class Solution:\n",
    "    def isSubstring(self, st1, st2):\n",
    "        temp = st1 + st1\n",
    "        if temp.count(st2) > 0:\n",
    "            return True\n",
    "       \n",
    "        return False\n",
    "       \n",
    "sol = Solution()\n",
    "st1 = \"waterbottle\"\n",
    "st2 = \"erbottlewat\"\n",
    "ans = sol.isSubstring(st1, st2)\n",
    "ans              "
   ]
  }
 ],
 "metadata": {
  "kernelspec": {
   "display_name": "Python 3",
   "language": "python",
   "name": "python3"
  },
  "language_info": {
   "codemirror_mode": {
    "name": "ipython",
    "version": 3
   },
   "file_extension": ".py",
   "mimetype": "text/x-python",
   "name": "python",
   "nbconvert_exporter": "python",
   "pygments_lexer": "ipython3",
   "version": "3.7.4"
  }
 },
 "nbformat": 4,
 "nbformat_minor": 2
}
