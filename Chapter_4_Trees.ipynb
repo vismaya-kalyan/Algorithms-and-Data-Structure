{
 "cells": [
  {
   "cell_type": "markdown",
   "metadata": {},
   "source": [
    "# Trees and Graph\n",
    "\n",
    "## Chapter - 4"
   ]
  },
  {
   "cell_type": "code",
   "execution_count": 1,
   "metadata": {},
   "outputs": [],
   "source": [
    "# Definition for a binary tree node.\n",
    "class TreeNode(object):\n",
    "    def __init__(self, x,left=None,right=None):\n",
    "        self.val = x\n",
    "        self.left = left\n",
    "        self.right = right\n",
    "        self.parent = None\n",
    "        if self.left:  self.left.parent  = self\n",
    "        if self.right: self.right.parent = self\n",
    "        \n",
    "    def __str__(self):\n",
    "        return '('+str(self.left)+':L ' + \"V:\" + str(self.val) + \" R:\" + str(self.right)+')'\n",
    "\n",
    "    \n",
    "class GraphNode():\n",
    "    def __init__(self, data):\n",
    "        self.data = data\n",
    "        self.edges = []\n",
    "\n",
    "    def add_edge(self, node):\n",
    "        self.edges.append(node)\n",
    "    \n",
    "    def __str__(self):\n",
    "        return '('+str(self.edges)+')'\n",
    "        \n",
    "        \n",
    "    \n",
    "class Node:\n",
    "    def __init__(self, val, next=None):\n",
    "        self.val = val\n",
    "        self.next = next\n",
    "          \n",
    "    \n",
    "def tree_traversal(node):\n",
    "    if node:\n",
    "        tree_traversal(node.left)\n",
    "        print(node.val)\n",
    "        tree_traversal(node.right)\n",
    "        \n",
    "def print_list(head):\n",
    "    if head is None:\n",
    "        print(\"List has no element\")\n",
    "        return\n",
    "    else:\n",
    "        n = head\n",
    "        while n is not None:\n",
    "            print(n.val , \" \")\n",
    "            n = n.next\n",
    "        "
   ]
  },
  {
   "cell_type": "markdown",
   "metadata": {},
   "source": [
    "![alt text](images/tree.png \"Title\")"
   ]
  },
  {
   "cell_type": "markdown",
   "metadata": {},
   "source": [
    "# Route Between Nodes\n",
    "4.1 Given a directed graph, design an algorithmn to find out whether is a route between 2 nodes"
   ]
  },
  {
   "cell_type": "code",
   "execution_count": 4,
   "metadata": {},
   "outputs": [
    {
     "data": {
      "text/plain": [
       "True"
      ]
     },
     "execution_count": 4,
     "metadata": {},
     "output_type": "execute_result"
    }
   ],
   "source": [
    "class Solution:\n",
    "    def ifRoute(self, nodeA, nodeB):\n",
    "        queue = []\n",
    "        queue.append(nodeA)\n",
    "        while len(queue) > 0 :\n",
    "            node = queue.pop(0)\n",
    "            if node == nodeB:\n",
    "                return True\n",
    "            for nextVertex in node.edges:\n",
    "                queue.append(nextVertex)\n",
    "\n",
    "        return False\n",
    "                \n",
    "sol = Solution()\n",
    "vertex = [\"A\",\"B\",\"C\",\"D\",\"E\",\"F\",\"G\",\"H\",\"I\"]\n",
    "\n",
    "nodes ={}\n",
    "for v in vertex:\n",
    "    nodes[v] = GraphNode(v)\n",
    "\n",
    "dependencies = [(\"A\", \"B\"), (\"A\", \"C\"), (\"A\", \"D\"), (\"B\", \"E\"), (\"C\", \"F\"),(\"D\",\"F\"),(\"E\",\"G\"),(\"F\",\"G\"),(\"H\",\"I\")]\n",
    "#   Add edge between nodes where dependcies exists\n",
    "for dependency in dependencies:\n",
    "    nodes[dependency[0]].add_edge(nodes[dependency[1]])\n",
    "    \n",
    "sol.ifRoute(nodes[\"A\"], nodes[\"G\"])"
   ]
  },
  {
   "cell_type": "markdown",
   "metadata": {},
   "source": [
    "# Minimal Tree\n",
    "4.2 Given a sorted array with unique integer elements, write an algorithm to create a binary search tree wih a minimal height"
   ]
  },
  {
   "cell_type": "code",
   "execution_count": 5,
   "metadata": {},
   "outputs": [
    {
     "name": "stdout",
     "output_type": "stream",
     "text": [
      "2\n",
      "3\n",
      "4\n",
      "((None:L V:2 R:None):L V:3 R:(None:L V:4 R:None))\n"
     ]
    }
   ],
   "source": [
    "class Solution:\n",
    "    def bin_tree(self, elements, start, end):\n",
    "        if end<start:\n",
    "            return \n",
    "        mid = (start + end) // 2\n",
    "        n = TreeNode(elements[mid])\n",
    "        n.left = self.bin_tree(elements, start, mid-1)\n",
    "        n.right = self.bin_tree(elements, mid+1, end)\n",
    "        return n\n",
    "        \n",
    "    def minimal_tree(self, elements):\n",
    "        end = len(elements) - 1\n",
    "        return self.bin_tree(elements, 0, end)\n",
    "        \n",
    "\n",
    "        \n",
    "sol = Solution()\n",
    "elements = [2,3,4]\n",
    "ans = sol.minimal_tree(elements)\n",
    "tree_traversal(ans)\n",
    "print(ans)"
   ]
  },
  {
   "cell_type": "markdown",
   "metadata": {},
   "source": [
    "# List of Depths:\n",
    "4.3 Given a binary tree, design an algorithm which creates a linked list of all the nodes\n",
    "at each depth (e.g., if you have a tree with depth D, you'll have D linked lists). "
   ]
  },
  {
   "cell_type": "code",
   "execution_count": 10,
   "metadata": {},
   "outputs": [
    {
     "name": "stdout",
     "output_type": "stream",
     "text": [
      "depth 1\n",
      "depth 2\n",
      "depth 3\n",
      "depth 3\n",
      "depth 2\n",
      "5  \n"
     ]
    }
   ],
   "source": [
    "class Solution:\n",
    "    def printInorder(self,root,depth,dic): \n",
    "  \n",
    "        if not root: \n",
    "            return None\n",
    "        \n",
    "        depth += 1\n",
    "        if depth in dic:\n",
    "            head= Node(root.val,dic[depth])\n",
    "            dic[depth] = head\n",
    "        else:\n",
    "            head = Node(root.val,None)\n",
    "            dic[depth]= head   \n",
    "        \n",
    "        for i in [root.left,root.right]:   \n",
    "            self.printInorder(i,depth,dic)   \n",
    "        return dic\n",
    "            \n",
    "    def func(self,root):\n",
    "        dic={}\n",
    "        depth = 0\n",
    "        return self.printInorder(root,depth,dic)\n",
    "        \n",
    "tree1 = TreeNode(5,TreeNode(3, TreeNode(1),TreeNode(4)),TreeNode(7))\n",
    "\n",
    "sol = Solution()\n",
    "out = sol.func(tree1)\n",
    "print_list(out[1])"
   ]
  },
  {
   "cell_type": "markdown",
   "metadata": {},
   "source": [
    "# Check Balanced:\n",
    "4.4 Implement a function to check if a binary tree is balanced. For the purposes of\n",
    "this question, a balanced tree is defined to be a tree such that the heights of the two subtrees of any\n",
    "node never differ by more than one. "
   ]
  },
  {
   "cell_type": "code",
   "execution_count": 6,
   "metadata": {},
   "outputs": [
    {
     "name": "stdout",
     "output_type": "stream",
     "text": [
      "root.left 0\n",
      "root.right 0\n",
      "root.left 1\n",
      "root.left 0\n",
      "root.right 0\n",
      "root.right 1\n",
      "root.left 0\n",
      "root.right 0\n",
      "root.left 0\n",
      "root.right 0\n",
      "lh 2\n",
      "rh 0\n",
      "False\n"
     ]
    }
   ],
   "source": [
    "class Solution:\n",
    "    def height(self,root): \n",
    "        if root is None: \n",
    "            return 0\n",
    "        return max(self.height(root.left), self.height(root.right)) + 1\n",
    "\n",
    "    def isBalanced(self,root): \n",
    "        if root is None: \n",
    "            return True\n",
    "\n",
    "        lh = self.height(root.left) \n",
    "        rh = self.height(root.right) \n",
    "        \n",
    "        if (abs(lh - rh) <= 1) and self.isBalanced(root.left) and self.isBalanced( root.right): \n",
    "            return True\n",
    "\n",
    "        return False\n",
    "        \n",
    "sol = Solution()\n",
    "tree0 = TreeNode(2,TreeNode(1,TreeNode(5),TreeNode(8)),None)\n",
    "out = sol.isBalanced(tree0)\n",
    "print(out)"
   ]
  },
  {
   "cell_type": "markdown",
   "metadata": {},
   "source": [
    "# Validate BST\n",
    "4.5 Implement a fubction to check if a binary tree ia a binary search tree"
   ]
  },
  {
   "cell_type": "code",
   "execution_count": 26,
   "metadata": {},
   "outputs": [
    {
     "name": "stdout",
     "output_type": "stream",
     "text": [
      "True\n"
     ]
    }
   ],
   "source": [
    "class Solution:\n",
    "    def validate_tree_node(self,node, left_bound, right_bound):\n",
    "        if not node:\n",
    "            return True\n",
    "        return node.val >= left_bound and node.val <= right_bound and \\\n",
    "         self.validate_tree_node(node.left, left_bound, node.val) and \\\n",
    "         self.validate_tree_node(node.right, node.val, right_bound)\n",
    "        \n",
    "    def validate_tree(self,binary_tree):\n",
    "        return self.validate_tree_node(binary_tree, -float('inf'), float('inf'))\n",
    "        \n",
    "sol = Solution()\n",
    "tree0 = TreeNode(2,TreeNode(1),None)\n",
    "tree1 = TreeNode(5,TreeNode(3,TreeNode(1),TreeNode(4)),TreeNode(7,TreeNode(6),TreeNode(8,None,TreeNode(9))))\n",
    "tree2 = TreeNode(7,TreeNode(3,TreeNode(1),TreeNode(8)),TreeNode(9,TreeNode(8),TreeNode(11)))\n",
    "out = sol.validate_tree(tree1)\n",
    "print(out)"
   ]
  },
  {
   "cell_type": "markdown",
   "metadata": {},
   "source": [
    "# Successor: \n",
    "4.6 Write an algorithm to find the \"next\" node (i.e., in-order successor) of a given node in a\n",
    "binary search tree. You may assume that each node has a link to its parent. "
   ]
  },
  {
   "cell_type": "code",
   "execution_count": 40,
   "metadata": {},
   "outputs": [
    {
     "name": "stdout",
     "output_type": "stream",
     "text": [
      "(((None:L V:3 R:None):L V:1 R:(None:L V:5 R:None)):L V:8 R:(None:L V:6 R:None))\n"
     ]
    }
   ],
   "source": [
    "class Solution:\n",
    "    def successor(self,node):\n",
    "        if not node:\n",
    "            return None\n",
    "        if node.right:\n",
    "            node=node.right\n",
    "            while (node.left):\n",
    "                node= node.left\n",
    "            return node\n",
    "        elif node.parent and node.val < node.parent.val:\n",
    "            return node.parent\n",
    "        \n",
    "        \n",
    "sol = Solution()\n",
    "tree2 = TreeNode(6)\n",
    "tree0 = TreeNode(1,TreeNode(3),TreeNode(5))\n",
    "tree1 = TreeNode(8,tree0,tree2)\n",
    "\n",
    "out = sol.successor(tree2)\n",
    "print(out)"
   ]
  },
  {
   "cell_type": "markdown",
   "metadata": {},
   "source": [
    "# Build Order\n",
    "4.7 You are given a list of projects and a list of dependencies (which is a list of pairs of\n",
    "projects, where the second project is dependent on the first project). Ail of a project's dependencies\n",
    "must be built before the project is. Find a build order that will allow the projects to be built. If there\n",
    "is no valid build order, return an error."
   ]
  },
  {
   "cell_type": "code",
   "execution_count": 23,
   "metadata": {},
   "outputs": [
    {
     "name": "stdout",
     "output_type": "stream",
     "text": [
      "A\n",
      "1\n",
      "B\n",
      "1\n",
      "C\n",
      "1\n",
      "D\n",
      "2\n",
      "E\n",
      "0\n",
      "F\n",
      "0\n"
     ]
    },
    {
     "data": {
      "text/plain": [
       "['E', 'F', 'B', 'A', 'D', 'C']"
      ]
     },
     "execution_count": 23,
     "metadata": {},
     "output_type": "execute_result"
    }
   ],
   "source": [
    "def build_order(projects, dependencies):\n",
    "    nodes = {}\n",
    "    \n",
    "#   Create Nodes for all Projects\n",
    "    for project in projects:\n",
    "        nodes[project] = GraphNode(project)\n",
    "\n",
    "#   Add edge between nodes where dependcies exists\n",
    "    for dependency in dependencies:\n",
    "        nodes[dependency[0]].add_edge(nodes[dependency[1]])\n",
    "        \n",
    "#   Add elemets with no dependencies into the queue       \n",
    "    queue = Queue()\n",
    "    for project in projects:\n",
    "        node = nodes[project]\n",
    "        print(node.data)\n",
    "        print(node.dependencies_left)\n",
    "        if not node.dependencies_left:\n",
    "            queue.add(node)\n",
    "            \n",
    "            \n",
    "            \n",
    "    build_order = []\n",
    "    while queue.is_not_empty():\n",
    "        node = queue.remove()\n",
    "        build_order.append(node.data)\n",
    "      \n",
    "        for dependent in node.edges:\n",
    "            dependent.dependencies_left -= 1\n",
    "            \n",
    "            if not dependent.dependencies_left:\n",
    "                queue.add(dependent)\n",
    "                \n",
    "                \n",
    "    if len(build_order) < len(projects):\n",
    "        return Exception(\"Cycle detected\")\n",
    "    \n",
    "    return build_order\n",
    "\n",
    "class GraphNode():\n",
    "    def __init__(self, data):\n",
    "        self.data = data\n",
    "        self.edges = []\n",
    "        self.dependencies_left = 0\n",
    "\n",
    "    def add_edge(self, node):\n",
    "        self.edges.append(node)\n",
    "        node.dependencies_left += 1\n",
    "\n",
    "class Queue():\n",
    "    def __init__(self):     self.array = []\n",
    "    def add(self, item):    self.array.append(item)\n",
    "    def remove(self):       return self.array.pop(0)\n",
    "    def is_not_empty(self): return len(self.array) > 0\n",
    "    \n",
    "\n",
    "projects = [\"A\", \"B\", \"C\", \"D\", \"E\", \"F\"]\n",
    "dependencies = [(\"A\", \"D\"), (\"F\", \"B\"), (\"B\", \"D\"), (\"F\", \"A\"), (\"D\", \"C\")]\n",
    "        \n",
    "build_order(projects, dependencies)"
   ]
  },
  {
   "cell_type": "markdown",
   "metadata": {},
   "source": [
    "# Check Subtree\n",
    "4.10 T1 and T2 are two very large binary tree with T1 much bigger than T2. Create an algorithm to determune if T2 is a subtree of T1.\n",
    "\n"
   ]
  },
  {
   "cell_type": "code",
   "execution_count": null,
   "metadata": {},
   "outputs": [],
   "source": []
  }
 ],
 "metadata": {
  "kernelspec": {
   "display_name": "Python 3",
   "language": "python",
   "name": "python3"
  },
  "language_info": {
   "codemirror_mode": {
    "name": "ipython",
    "version": 3
   },
   "file_extension": ".py",
   "mimetype": "text/x-python",
   "name": "python",
   "nbconvert_exporter": "python",
   "pygments_lexer": "ipython3",
   "version": "3.7.4"
  }
 },
 "nbformat": 4,
 "nbformat_minor": 2
}
