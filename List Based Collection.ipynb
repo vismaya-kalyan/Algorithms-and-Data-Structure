{
 "cells": [
  {
   "cell_type": "markdown",
   "metadata": {},
   "source": [
    "### Linked list"
   ]
  },
  {
   "cell_type": "markdown",
   "metadata": {},
   "source": [
    "\"\"\"The LinkedList code from before is provided below.\n",
    "Add three functions to the LinkedList.\n",
    "\"get_position\" returns the element at a certain position.\n",
    "The \"insert\" function will add an element to a particular\n",
    "spot in the list.\n",
    "\"delete\" will delete the first element with that\n",
    "particular value.\n",
    "Then, use \"Test Run\" and \"Submit\" to run the test cases\n",
    "at the bottom.\"\"\""
   ]
  },
  {
   "cell_type": "code",
   "execution_count": 1,
   "metadata": {},
   "outputs": [
    {
     "name": "stdout",
     "output_type": "stream",
     "text": [
      "3\n",
      "3\n",
      "4\n",
      "2\n",
      "4\n",
      "3\n"
     ]
    }
   ],
   "source": [
    "class Element(object):\n",
    "    def __init__(self, value):\n",
    "        self.value = value\n",
    "        self.next = None\n",
    "        \n",
    "class LinkedList(object):\n",
    "    def __init__(self, head=None):\n",
    "        self.head = head\n",
    "        \n",
    "    def append(self, new_element):\n",
    "        current = self.head\n",
    "        if self.head:\n",
    "            while current.next:\n",
    "                current = current.next\n",
    "            current.next = new_element\n",
    "        else:\n",
    "            self.head = new_element\n",
    "            \n",
    "    def get_position(self, position):\n",
    "        \"\"\"Get an element from a particular position.\n",
    "        Assume the first position is \"1\".\n",
    "        Return \"None\" if position is not in the list.\"\"\"\n",
    "        current = self.head\n",
    "        i = 1\n",
    "        while i < position and current.next:\n",
    "            current = current.next\n",
    "            i += 1\n",
    "        \n",
    "        if i == position:\n",
    "            return current\n",
    "        else:\n",
    "            return None\n",
    "    \n",
    "    def insert(self, new_element, position):\n",
    "        \"\"\"Insert a new node at the given position.\n",
    "        Assume the first position is \"1\".\n",
    "        Inserting at position 3 means between\n",
    "        the 2nd and 3rd elements.\"\"\"\n",
    "        i = 1\n",
    "        current = self.head\n",
    "        while i < position - 1 and current.next:\n",
    "            current = current.next\n",
    "            i += 1\n",
    "        if i == position-1:\n",
    "            new_element.next = current.next\n",
    "            current.next = new_element\n",
    "        pass\n",
    "        \n",
    "    \n",
    "    def delete(self, value):\n",
    "        \"\"\"Delete the first node with a given value.\"\"\"\n",
    "        \n",
    "        current = self.head\n",
    "        if self.head.value == value:\n",
    "            self.head = current.next\n",
    "            \n",
    "        while current.next:\n",
    "            if current.next.value == value:\n",
    "                current.next = current.next.next\n",
    "                break\n",
    "            current = current.next\n",
    "        \n",
    "\n",
    "# Test cases\n",
    "# Set up some Elements\n",
    "e1 = Element(1)\n",
    "e2 = Element(2)\n",
    "e3 = Element(3)\n",
    "e4 = Element(4)\n",
    "\n",
    "# Start setting up a LinkedList\n",
    "ll = LinkedList(e1)\n",
    "ll.append(e2)\n",
    "ll.append(e3)\n",
    "\n",
    "# Test get_position\n",
    "# Should print 3\n",
    "print(ll.head.next.next.value)\n",
    "# Should also print 3\n",
    "print(ll.get_position(3).value)\n",
    "\n",
    "# Test insert\n",
    "ll.insert(e4,3)\n",
    "# Should print 4 now\n",
    "print(ll.get_position(3).value)\n",
    "\n",
    "# Test delete\n",
    "ll.delete(1)\n",
    "# Should print 2 now\n",
    "print(ll.get_position(1).value)\n",
    "# Should print 4 now\n",
    "print(ll.get_position(2).value)\n",
    "# Should print 3 now\n",
    "print(ll.get_position(3).value)"
   ]
  },
  {
   "cell_type": "markdown",
   "metadata": {},
   "source": [
    "### Stack"
   ]
  },
  {
   "cell_type": "markdown",
   "metadata": {},
   "source": [
    "\"\"\"Add a couple methods to our LinkedList class,\n",
    "and use that to implement a Stack.\n",
    "You have 4 functions below to fill in:\n",
    "insert_first, delete_first, push, and pop.\n",
    "Think about this while you're implementing:\n",
    "why is it easier to add an \"insert_first\"\n",
    "function than just use \"append\"?\"\"\""
   ]
  },
  {
   "cell_type": "code",
   "execution_count": 2,
   "metadata": {},
   "outputs": [
    {
     "name": "stdout",
     "output_type": "stream",
     "text": [
      "3\n",
      "2\n",
      "1\n",
      "None\n",
      "4\n"
     ]
    }
   ],
   "source": [
    "class Element(object):\n",
    "    def __init__(self, value):\n",
    "        self.value = value\n",
    "        self.next = None\n",
    "        \n",
    "class LinkedList(object):\n",
    "    def __init__(self, head=None):\n",
    "        self.head = head\n",
    "        \n",
    "    def append(self, new_element):\n",
    "        current = self.head\n",
    "        if self.head:\n",
    "            while current.next:\n",
    "                current = current.next\n",
    "            current.next = new_element\n",
    "        else:\n",
    "            self.head = new_element\n",
    "\n",
    "    def insert_first(self, new_element):\n",
    "        \"Insert new element as the head of the LinkedList\"\n",
    "        current = self.head\n",
    "        new_element.next = current\n",
    "        self.head = new_element\n",
    "        \n",
    "    def delete_first(self):\n",
    "        \"Delete the first (head) element in the LinkedList and return it\"\n",
    "        head = self.head\n",
    "        current = self.head\n",
    "        if current != None:\n",
    "            self.head = current.next\n",
    "        else:\n",
    "            self.head = None\n",
    "        return head\n",
    "\n",
    "class Stack(object):\n",
    "    def __init__(self,top=None):\n",
    "        self.ll = LinkedList(top)\n",
    "\n",
    "    def push(self, new_element):\n",
    "        \"Push (add) a new element onto the top of the stack\"\n",
    "        self.ll.insert_first(new_element)\n",
    "        pass\n",
    "\n",
    "    def pop(self):\n",
    "        \"Pop (remove) the first element off the top of the stack and return it\"\n",
    "        return self.ll.delete_first()\n",
    "    \n",
    "# Test cases\n",
    "# Set up some Elements\n",
    "e1 = Element(1)\n",
    "e2 = Element(2)\n",
    "e3 = Element(3)\n",
    "e4 = Element(4)\n",
    "\n",
    "# Start setting up a Stack\n",
    "stack = Stack(e1)\n",
    "\n",
    "# Test stack functionality\n",
    "stack.push(e2)\n",
    "stack.push(e3)\n",
    "print(stack.pop().value)\n",
    "print(stack.pop().value)\n",
    "print(stack.pop().value)\n",
    "print(stack.pop())\n",
    "stack.push(e4)\n",
    "print(stack.pop().value)"
   ]
  },
  {
   "cell_type": "markdown",
   "metadata": {},
   "source": [
    "### Queue"
   ]
  },
  {
   "cell_type": "code",
   "execution_count": 3,
   "metadata": {},
   "outputs": [
    {
     "data": {
      "text/plain": [
       "\"Make a Queue class using a list!\\nHint: You can use any Python list method\\nyou'd like! Try to write each one in as \\nfew lines as possible.\\nMake sure you pass the test cases too!\""
      ]
     },
     "execution_count": 3,
     "metadata": {},
     "output_type": "execute_result"
    }
   ],
   "source": [
    "\"\"\"Make a Queue class using a list!\n",
    "Hint: You can use any Python list method\n",
    "you'd like! Try to write each one in as \n",
    "few lines as possible.\n",
    "Make sure you pass the test cases too!\"\"\"\n"
   ]
  },
  {
   "cell_type": "code",
   "execution_count": 4,
   "metadata": {},
   "outputs": [
    {
     "name": "stdout",
     "output_type": "stream",
     "text": [
      "1\n",
      "3\n",
      "4\n",
      "2\n",
      "1\n",
      "5\n"
     ]
    }
   ],
   "source": [
    "class Queue:\n",
    "    def __init__(self, head=None):\n",
    "        self.storage = [head]\n",
    "\n",
    "    def enqueue(self, new_element):\n",
    "        self.storage.append(new_element)\n",
    "\n",
    "    def peek(self):\n",
    "        return self.storage[0]\n",
    "\n",
    "    def dequeue(self):\n",
    "        return self.storage.pop()\n",
    "    \n",
    "# Setup\n",
    "q = Queue(1)\n",
    "q.enqueue(2)\n",
    "q.enqueue(3)\n",
    "\n",
    "# Test peek\n",
    "# Should be 1\n",
    "print(q.peek())\n",
    "\n",
    "# Test dequeue\n",
    "# Should be 1\n",
    "print(q.dequeue())\n",
    "\n",
    "# Test enqueue\n",
    "q.enqueue(4)\n",
    "# Should be 2\n",
    "print(q.dequeue())\n",
    "# Should be 3\n",
    "print(q.dequeue())\n",
    "# Should be 4\n",
    "print(q.dequeue())\n",
    "q.enqueue(5)\n",
    "# Should be 5\n",
    "print(q.peek())"
   ]
  }
 ],
 "metadata": {
  "kernelspec": {
   "display_name": "Python 3",
   "language": "python",
   "name": "python3"
  },
  "language_info": {
   "codemirror_mode": {
    "name": "ipython",
    "version": 3
   },
   "file_extension": ".py",
   "mimetype": "text/x-python",
   "name": "python",
   "nbconvert_exporter": "python",
   "pygments_lexer": "ipython3",
   "version": "3.6.8"
  }
 },
 "nbformat": 4,
 "nbformat_minor": 2
}
