{
 "cells": [
  {
   "cell_type": "markdown",
   "metadata": {},
   "source": [
    "# Arrays\n",
    "## Chapter - 1"
   ]
  },
  {
   "cell_type": "markdown",
   "metadata": {},
   "source": [
    "# Palindrome Permutation\n",
    "1.4 Given a string, write a func to check if it is a permutation of a palindrome."
   ]
  },
  {
   "cell_type": "code",
   "execution_count": 17,
   "metadata": {},
   "outputs": [],
   "source": [
    "class Solution:\n",
    "    def check_palindrome(self, lis):\n",
    "        dicc={}\n",
    "        count=0\n",
    "        for i in list(lis):\n",
    "            i = i.lower()\n",
    "            if i == \" \":\n",
    "                continue\n",
    "            elif i not in dicc:\n",
    "                dicc[i]= 1\n",
    "            else:\n",
    "                count=dicc[i]\n",
    "                dicc[i]=count+1\n",
    "        singly=0\n",
    "        for key,val in dicc.items():\n",
    "            print(\"key\",key)\n",
    "            print(\"val\",val)\n",
    "            if val%2 != 0:\n",
    "                singly += 1\n",
    "        \n",
    "        if singly==1 or singly==0:\n",
    "            return True\n",
    "        else :\n",
    "            return False\n",
    "        "
   ]
  },
  {
   "cell_type": "code",
   "execution_count": 18,
   "metadata": {},
   "outputs": [
    {
     "name": "stdout",
     "output_type": "stream",
     "text": [
      "key t\n",
      "val 2\n",
      "key a\n",
      "val 2\n",
      "key c\n",
      "val 2\n",
      "key o\n",
      "val 1\n"
     ]
    },
    {
     "data": {
      "text/plain": [
       "True"
      ]
     },
     "execution_count": 18,
     "metadata": {},
     "output_type": "execute_result"
    }
   ],
   "source": [
    "sol = Solution()\n",
    "lis = \"Tact Coa\"\n",
    "ans = sol.check_palindrome(lis)\n",
    "ans"
   ]
  },
  {
   "cell_type": "markdown",
   "metadata": {},
   "source": [
    "# One away\n",
    "1.5 "
   ]
  },
  {
   "cell_type": "code",
   "execution_count": 35,
   "metadata": {},
   "outputs": [],
   "source": [
    "class Solution:\n",
    "    def is_replace(self, old,new):\n",
    "        replace = 0\n",
    "        if old==new:\n",
    "            return True\n",
    "        else:\n",
    "            for x,y in zip(new,old):\n",
    "                if x!=y:\n",
    "                    replace += 1\n",
    "            if replace <= 1:\n",
    "                return True\n",
    "            else:\n",
    "                return False\n",
    "            \n",
    "    def is_add(self,big,smol):\n",
    "        i = 0\n",
    "        j = 0 \n",
    "        add = 0\n",
    "        while i < len(big) and j < len(smol):\n",
    "            if big[i] != smol[j]:\n",
    "                i += 1\n",
    "                add += 1\n",
    "            else:\n",
    "                i+=1\n",
    "                j+=1\n",
    "        if add <= 1:\n",
    "            return True\n",
    "        else:\n",
    "            return False\n",
    "            \n",
    "    def oneAway(self, old, new):\n",
    "        if len(old)==len(new):\n",
    "            return self.is_replace(old, new)\n",
    "        elif len(old)+1 == len(new):\n",
    "            return self.is_add(new,old)\n",
    "        elif len(old)-1 == len(new):\n",
    "            return self.is_add(old,new)\n",
    "        else:\n",
    "            return False                 \n",
    "                "
   ]
  },
  {
   "cell_type": "code",
   "execution_count": 36,
   "metadata": {},
   "outputs": [
    {
     "data": {
      "text/plain": [
       "True"
      ]
     },
     "execution_count": 36,
     "metadata": {},
     "output_type": "execute_result"
    }
   ],
   "source": [
    "sol = Solution()\n",
    "old = \"pal\"\n",
    "new = \"pale\"\n",
    "ans = sol.oneAway(old,new)\n",
    "ans"
   ]
  },
  {
   "cell_type": "code",
   "execution_count": null,
   "metadata": {},
   "outputs": [],
   "source": []
  }
 ],
 "metadata": {
  "kernelspec": {
   "display_name": "Python 3",
   "language": "python",
   "name": "python3"
  },
  "language_info": {
   "codemirror_mode": {
    "name": "ipython",
    "version": 3
   },
   "file_extension": ".py",
   "mimetype": "text/x-python",
   "name": "python",
   "nbconvert_exporter": "python",
   "pygments_lexer": "ipython3",
   "version": "3.7.4"
  }
 },
 "nbformat": 4,
 "nbformat_minor": 2
}
