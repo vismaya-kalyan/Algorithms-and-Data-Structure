{
 "cells": [
  {
   "cell_type": "markdown",
   "metadata": {
    "slideshow": {
     "slide_type": "slide"
    }
   },
   "source": [
    "# LINKED LIST\n",
    "## Chapter - 2 "
   ]
  },
  {
   "cell_type": "code",
   "execution_count": 2,
   "metadata": {
    "slideshow": {
     "slide_type": "subslide"
    }
   },
   "outputs": [],
   "source": [
    "class Node:\n",
    "    def __init__(self,val,next):\n",
    "        self.val = val\n",
    "        self.next = next \n",
    "                \n",
    "\n",
    "def print_list(head):\n",
    "    if head is None:\n",
    "        print(\"List has no element\")\n",
    "        return\n",
    "    else:\n",
    "        n = head\n",
    "        while n is not None:\n",
    "            print(n.val , \" \")\n",
    "            n = n.next\n"
   ]
  },
  {
   "cell_type": "markdown",
   "metadata": {
    "slideshow": {
     "slide_type": "slide"
    }
   },
   "source": [
    "# Remove Dups\n",
    "2.1 Write code to remove duplicates from an unsorted linked list"
   ]
  },
  {
   "cell_type": "code",
   "execution_count": 3,
   "metadata": {
    "slideshow": {
     "slide_type": "subslide"
    }
   },
   "outputs": [
    {
     "name": "stdout",
     "output_type": "stream",
     "text": [
      "input:\n",
      "1  \n",
      "output:\n",
      "1  \n"
     ]
    }
   ],
   "source": [
    "class Solution:\n",
    "    def removeDuplicates(self, head: Node) -> int:\n",
    "        count = set()\n",
    "        count.add(head.val)\n",
    "        cur = head\n",
    "        prev = head\n",
    "        while cur:\n",
    "            if cur.val in count:\n",
    "                prev.next = cur.next\n",
    "            else:\n",
    "                count.add(cur.val)\n",
    "            prev = cur\n",
    "            cur = cur.next\n",
    "        return head\n",
    "        \n",
    "        \n",
    "    def removeDuplicatesMultiple(self, head: Node) -> int:\n",
    "        if not head:\n",
    "            return\n",
    "        \n",
    "        cur = head\n",
    "        while cur:\n",
    "            runner = cur\n",
    "            while runner.next:\n",
    "                if runner.next.val == cur.val:\n",
    "                    runner.next = runner.next.next\n",
    "                else:\n",
    "                    runner = runner.next\n",
    "            cur = cur.next        \n",
    "        return head\n",
    "        \n",
    "        \n",
    "\n",
    "# head = Node(1,Node(1,Node(1,None)))\n",
    "head = Node(1,None)\n",
    "print(\"input:\")\n",
    "print_list(head)\n",
    "\n",
    "sol = Solution()\n",
    "ans = sol.removeDuplicatesMultiple(head)\n",
    "print(\"output:\")\n",
    "print_list(ans)"
   ]
  },
  {
   "cell_type": "markdown",
   "metadata": {
    "slideshow": {
     "slide_type": "slide"
    }
   },
   "source": [
    "# Return Kth to Last\n",
    "2.2 Implement an algorithm to find the kth to last element of a singly linked list"
   ]
  },
  {
   "cell_type": "code",
   "execution_count": 4,
   "metadata": {
    "slideshow": {
     "slide_type": "subslide"
    }
   },
   "outputs": [
    {
     "name": "stdout",
     "output_type": "stream",
     "text": [
      "input:\n",
      "1  \n",
      "2  \n",
      "3  \n",
      "4  \n",
      "5  \n",
      "output:\n",
      "3  \n",
      "4  \n",
      "5  \n"
     ]
    }
   ],
   "source": [
    "class Solution:\n",
    "    def find_K_val(self, head: Node, k):\n",
    "        if not head:\n",
    "            return\n",
    "        \n",
    "        cur = head\n",
    "        count = 1\n",
    "        while cur.next:\n",
    "            count+=1\n",
    "            cur = cur.next\n",
    "        print(\"count\",count)\n",
    "        \n",
    "        index = count - k + 1\n",
    "        \n",
    "        runner = head\n",
    "        num = 1\n",
    "        while runner:\n",
    "            if num == index:\n",
    "                return runner.val\n",
    "            else:\n",
    "                runner = runner.next\n",
    "                num += 1\n",
    "        return     \n",
    "    \n",
    "    \n",
    "    def kth_to_last(self,ll, k):\n",
    "        runner = current = ll\n",
    "        for i in range(k):\n",
    "            if runner is None:\n",
    "                return None\n",
    "            runner = runner.next\n",
    "        while runner:\n",
    "            current = current.next\n",
    "            runner = runner.next\n",
    "\n",
    "        return current\n",
    "        \n",
    "\n",
    "head = Node(1,Node(2,Node(3,Node(4,Node(5,None)))))\n",
    "# head = Node(1,None)\n",
    "print(\"input:\")\n",
    "print_list(head)\n",
    "\n",
    "sol = Solution()\n",
    "ans = sol.kth_to_last(head,3)\n",
    "print(\"output:\")\n",
    "print_list(ans)"
   ]
  },
  {
   "cell_type": "markdown",
   "metadata": {
    "slideshow": {
     "slide_type": "slide"
    }
   },
   "source": [
    "# Delete Middle Node\n",
    "2.3 Implement an algorithm to delete a node in the middle of a singly linkedlist, given only access to that node"
   ]
  },
  {
   "cell_type": "code",
   "execution_count": 6,
   "metadata": {
    "slideshow": {
     "slide_type": "subslide"
    }
   },
   "outputs": [
    {
     "name": "stdout",
     "output_type": "stream",
     "text": [
      "input:\n",
      "1  \n",
      "3  \n",
      "8  \n",
      "9  \n",
      "output:\n",
      "1  \n",
      "3  \n",
      "9  \n"
     ]
    }
   ],
   "source": [
    "class Solution:\n",
    "    def delete_node(self,node):\n",
    "        node.val = node.next.val\n",
    "        node.next = node.next.next\n",
    "        return\n",
    "\n",
    "# head = Node(1,Node(2,Node(3,Node(4,Node(5,None)))))\n",
    "three = Node(9,None)\n",
    "two = Node(8,three)\n",
    "one = Node(3,two)\n",
    "head = Node(1,one)\n",
    "\n",
    "print(\"input:\")\n",
    "print_list(head)\n",
    "\n",
    "sol = Solution()\n",
    "ans = sol.delete_node(two)\n",
    "print(\"output:\")\n",
    "print_list(head)"
   ]
  },
  {
   "cell_type": "markdown",
   "metadata": {
    "slideshow": {
     "slide_type": "slide"
    }
   },
   "source": [
    "# Partition\n",
    "2.4 Write code to partision a linkedlist around a value x, such that all nodes less than x come before all nodes greater than or eqaul to x. If x is contained within the list, the values of x only need to be after the elements less than x. "
   ]
  },
  {
   "cell_type": "code",
   "execution_count": 32,
   "metadata": {},
   "outputs": [
    {
     "name": "stdout",
     "output_type": "stream",
     "text": [
      "input:\n",
      "3  \n",
      "5  \n",
      "8  \n",
      "5  \n",
      "10  \n",
      "2  \n",
      "1  \n",
      "output:\n",
      "3  \n",
      "2  \n",
      "1  \n",
      "5  \n",
      "8  \n",
      "5  \n",
      "10  \n"
     ]
    }
   ],
   "source": [
    "class Solution:\n",
    "    def partision(self,node, partision):\n",
    "        lhead = Node(None,None)\n",
    "        lesser = lhead\n",
    "        ghead = Node(None,None)\n",
    "        greater = ghead\n",
    "        while(node):\n",
    "            if node.val < partision:\n",
    "                lesser.next = Node(node.val,None)\n",
    "                lesser = lesser.next\n",
    "            else:\n",
    "                greater.next = Node(node.val,None)\n",
    "                greater = greater.next\n",
    "            node=node.next\n",
    "       \n",
    "        ghead = ghead.next\n",
    "        lesser.next = ghead\n",
    "        lhead = lhead.next\n",
    "        \n",
    "        return lhead\n",
    "\n",
    "head = Node(3,Node(5,Node(8,Node(5,Node(10,Node(2,Node(1,None)))))))\n",
    "# three = Node(5,None)\n",
    "# two = Node(1,three)\n",
    "# one = Node(2,two)\n",
    "# head = Node(3,one)\n",
    "# head = Node(1,None)\n",
    "\n",
    "partision = 5\n",
    "print(\"input:\")\n",
    "print_list(head)\n",
    "\n",
    "sol = Solution()\n",
    "ans = sol.partision(head,partision)\n",
    "print(\"output:\")\n",
    "print_list(ans)"
   ]
  },
  {
   "cell_type": "markdown",
   "metadata": {},
   "source": [
    "# Sum Lists:\n",
    "2.5  You have two numbers represented by a linked list, where each node contains a single\n",
    "digit. The digits are stored in reverse order, such that the Vs digit is at the head of the list. Write a\n",
    "function that adds the two numbers and returns the sum as a linked list. \n"
   ]
  },
  {
   "cell_type": "code",
   "execution_count": 26,
   "metadata": {},
   "outputs": [
    {
     "name": "stdout",
     "output_type": "stream",
     "text": [
      "2  \n",
      "1  \n",
      "9  \n"
     ]
    }
   ],
   "source": [
    "class Solution:\n",
    "    def sum_list(self, l1, l2):\n",
    "        num1 = []\n",
    "        num2 = []\n",
    "        while l1 or l2:\n",
    "            if l1:\n",
    "                num1.insert(0,l1.val)\n",
    "                l1 =l1.next\n",
    "            if l2:\n",
    "                num2.insert(0,l2.val)\n",
    "                l2 =l2.next\n",
    "        summation= int(''.join(map(str, num1))) + int(''.join(map(str, num2)))\n",
    "        \n",
    "       \n",
    "        head = None\n",
    "        for i in str(summation):\n",
    "            node = Node(int(i),None)\n",
    "            node.next = head\n",
    "            head = node\n",
    "            \n",
    "        return head\n",
    "                \n",
    "        \n",
    "l1 = Node(7,Node(1,Node(6,None)))\n",
    "l2 = Node(5,Node(9,Node(2,None)))\n",
    "sol = Solution()\n",
    "ans = sol.sum_list(l1,l2)\n",
    "print_list(ans)"
   ]
  },
  {
   "cell_type": "markdown",
   "metadata": {},
   "source": [
    "# palindrome\n",
    "2.6 Implement an function to check if a linkedlist is a palindrome"
   ]
  },
  {
   "cell_type": "code",
   "execution_count": 28,
   "metadata": {},
   "outputs": [
    {
     "data": {
      "text/plain": [
       "False"
      ]
     },
     "execution_count": 28,
     "metadata": {},
     "output_type": "execute_result"
    }
   ],
   "source": [
    "class Solution:\n",
    "    def palindrome(self, ll):\n",
    "        hll = ll\n",
    "        rll = None\n",
    "        while ll:\n",
    "            node = Node(ll.val,None)\n",
    "            node.next = rll\n",
    "            rll = node\n",
    "            ll = ll.next\n",
    "            \n",
    "        while hll and rll:\n",
    "            if hll.val!= rll.val:\n",
    "                return False\n",
    "            hll = hll.next\n",
    "            rll = rll.next\n",
    "            \n",
    "        return True\n",
    "                \n",
    "        \n",
    "l1 = Node(6,Node(1,Node(6,None)))\n",
    "l2 = Node(5,Node(9,Node(2,None)))\n",
    "sol = Solution()\n",
    "ans = sol.palindrome(l2)\n",
    "ans"
   ]
  },
  {
   "cell_type": "markdown",
   "metadata": {},
   "source": [
    "# Intersection\n",
    "2.7 Given two (singly) linked lists, determine if the two lists intersect. Return the intersecting node. Note that the intersection is defined based on reference, not value. That is, if the kth\n",
    "node of the first linked list is the exact same node (by reference) as the jt h node of the second\n",
    "linked list, then they are intersecting. \n"
   ]
  },
  {
   "cell_type": "code",
   "execution_count": null,
   "metadata": {},
   "outputs": [],
   "source": []
  }
 ],
 "metadata": {
  "kernelspec": {
   "display_name": "Python 3",
   "language": "python",
   "name": "python3"
  },
  "language_info": {
   "codemirror_mode": {
    "name": "ipython",
    "version": 3
   },
   "file_extension": ".py",
   "mimetype": "text/x-python",
   "name": "python",
   "nbconvert_exporter": "python",
   "pygments_lexer": "ipython3",
   "version": "3.7.4"
  }
 },
 "nbformat": 4,
 "nbformat_minor": 2
}
