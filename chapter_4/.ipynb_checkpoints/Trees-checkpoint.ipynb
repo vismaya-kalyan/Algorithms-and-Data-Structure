{
 "cells": [
  {
   "cell_type": "markdown",
   "metadata": {},
   "source": [
    "# Trees and Graph\n",
    "\n",
    "## Chapter - 4"
   ]
  },
  {
   "cell_type": "code",
   "execution_count": 20,
   "metadata": {},
   "outputs": [],
   "source": [
    "class Node:\n",
    "    def __init__(self, val, left=None, right=None):\n",
    "        self.val = val\n",
    "        self.left = left\n",
    "        self.right = right\n",
    "    \n",
    "    def __str__(self):\n",
    "        return '('+str(self.left)+':L ' + \"V:\" + str(self.val) + \" R:\" + str(self.right)+')'\n",
    "    \n",
    "    \n",
    "def tree_traversal(node):\n",
    "    if node:\n",
    "        tree_traversal(node.left)\n",
    "        print(node.val)\n",
    "        tree_traversal(node.right)\n",
    "    \n",
    "    "
   ]
  },
  {
   "cell_type": "markdown",
   "metadata": {},
   "source": [
    "![alt text](tree.png \"Title\")"
   ]
  },
  {
   "cell_type": "markdown",
   "metadata": {},
   "source": [
    "# Minimal Tree\n",
    "4.2 Given a sorted array with unique integer elements, write an algorithm to create a binary search tree wih a minimal height"
   ]
  },
  {
   "cell_type": "code",
   "execution_count": 69,
   "metadata": {},
   "outputs": [
    {
     "name": "stdout",
     "output_type": "stream",
     "text": [
      "2\n",
      "3\n",
      "4\n",
      "((None:L V:2 R:None):L V:3 R:(None:L V:4 R:None))\n"
     ]
    }
   ],
   "source": [
    "class Solution:\n",
    "    def bin_tree(self, elements, start, end):\n",
    "        if end<start:\n",
    "            return \n",
    "        mid = int((start + end) / 2)\n",
    "        n = Node(elements[mid])\n",
    "        n.left = self.bin_tree(elements, start, mid-1)\n",
    "        n.right = self.bin_tree(elements, mid+1, end)\n",
    "        return n\n",
    "        \n",
    "    def minimal_tree(self, elements):\n",
    "        end = len(elements) - 1\n",
    "        return self.bin_tree(elements, 0, end)\n",
    "        \n",
    "\n",
    "        \n",
    "sol = Solution()\n",
    "elements = [2,3,4]\n",
    "ans = sol.minimal_tree(elements)\n",
    "tree_traversal(ans)\n",
    "print(ans)"
   ]
  },
  {
   "cell_type": "markdown",
   "metadata": {},
   "source": [
    "# Validate BST\n",
    "4.5 Implement a fubction to check if a binary tree ia a binary search tree"
   ]
  },
  {
   "cell_type": "code",
   "execution_count": 84,
   "metadata": {},
   "outputs": [
    {
     "name": "stdout",
     "output_type": "stream",
     "text": [
      "True\n"
     ]
    }
   ],
   "source": [
    "class Solution:\n",
    "    def validate_tree_node(self,node, left_bound, right_bound):\n",
    "        if not node:\n",
    "            return True\n",
    "        return node.val >= left_bound and node.val <= right_bound and \\\n",
    "         self.validate_tree_node(node.left, left_bound, node.val) and \\\n",
    "         self.validate_tree_node(node.right, node.val, right_bound)\n",
    "        \n",
    "    def validate_tree(self,binary_tree):\n",
    "        return self.validate_tree_node(binary_tree, -float('inf'), float('inf'))\n",
    "        \n",
    "sol = Solution()\n",
    "tree0 = Node(2,Node(1),None)\n",
    "tree1 = Node(5,Node(3,Node(1),Node(4)),Node(7,Node(6),Node(8,None,Node(9))))\n",
    "tree2 = Node(7,Node(3,Node(1),Node(8)),Node(9,Node(8),Node(11)))\n",
    "out = sol.validate_tree(tree0)\n",
    "print(out)"
   ]
  },
  {
   "cell_type": "markdown",
   "metadata": {},
   "source": [
    "# Check Subtree\n",
    "4.10 T1 and T2 are two very large binary tree with T1 much bigger than T2. Create an algorithm to determune if T2 is a subtree of T1.\n",
    "\n"
   ]
  },
  {
   "cell_type": "code",
   "execution_count": null,
   "metadata": {},
   "outputs": [],
   "source": [
    "class Solution:        \n",
    "    def sub_tree(self,main,sub):\n",
    "        \n",
    "        \n",
    "sol = Solution()\n",
    "tree0 = Node(2,Node(1),None)\n",
    "tree1 = Node(5,Node(2,Node(1),None,Node(7,Node(6),Node(8,None,Node(9))))\n",
    "tree2 = Node(7,Node(3,Node(1),Node(8)),Node(9,Node(8),Node(11)))\n",
    "out = sol.sub_tree(tree1,tree0)\n",
    "print(out)"
   ]
  }
 ],
 "metadata": {
  "kernelspec": {
   "display_name": "Python 3",
   "language": "python",
   "name": "python3"
  },
  "language_info": {
   "codemirror_mode": {
    "name": "ipython",
    "version": 3
   },
   "file_extension": ".py",
   "mimetype": "text/x-python",
   "name": "python",
   "nbconvert_exporter": "python",
   "pygments_lexer": "ipython3",
   "version": "3.7.4"
  }
 },
 "nbformat": 4,
 "nbformat_minor": 2
}
