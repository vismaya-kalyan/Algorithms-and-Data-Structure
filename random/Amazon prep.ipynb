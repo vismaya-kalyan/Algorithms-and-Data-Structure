{
 "cells": [
  {
   "cell_type": "markdown",
   "metadata": {},
   "source": [
    "Input: nums = [1, 1, 2, 45, 46, 46], target = 47\n",
    "Output: 2"
   ]
  },
  {
   "cell_type": "code",
   "execution_count": 14,
   "metadata": {},
   "outputs": [
    {
     "name": "stdout",
     "output_type": "stream",
     "text": [
      "2\n"
     ]
    }
   ],
   "source": [
    "nums = [1, 1, 2, 45, 46, 46]\n",
    "target = 47\n",
    "\n",
    "dicc = {}\n",
    "for i in range(0,len(nums)-1):\n",
    "    for j in range(i+1,len(nums)):\n",
    "        if nums[i] + nums[j] == target:\n",
    "            if (nums[i]< nums[j]):\n",
    "                dicc[nums[i]] = nums[j]\n",
    "            else:\n",
    "                dicc[nums[j]] = nums[i]\n",
    "            \n",
    "            \n",
    "\n",
    "print(len(dicc.keys()))\n",
    "    "
   ]
  },
  {
   "cell_type": "markdown",
   "metadata": {},
   "source": [
    "Given a map Map<String, List<String>> userSongs with user names as keys and a list of all the songs that the user has listened to as values.\n",
    "\n",
    "Also given a map Map<String, List<String>> songGenres, with song genre as keys and a list of all the songs within that genre as values. The song can only belong to only one genre.\n",
    "\n",
    "The task is to return a map Map<String, List<String>>, where the key is a user name and the value is a list of the user's favorite genre(s). Favorite genre is the most listened to genre. A user can have more than one favorite genre if he/she has listened to the same number of songs per each of the genres.\n",
    "\n",
    "Example 1:\n",
    "\n",
    "Input:\n",
    "userSongs = {  \n",
    "   \"David\": [\"song1\", \"song2\", \"song3\", \"song4\", \"song8\"],\n",
    "   \"Emma\":  [\"song5\", \"song6\", \"song7\"]\n",
    "},\n",
    "songGenres = {  \n",
    "   \"Rock\":    [\"song1\", \"song3\"],\n",
    "   \"Dubstep\": [\"song7\"],\n",
    "   \"Techno\":  [\"song2\", \"song4\"],\n",
    "   \"Pop\":     [\"song5\", \"song6\"],\n",
    "   \"Jazz\":    [\"song8\", \"song9\"]\n",
    "}\n",
    "\n",
    "Output: {  \n",
    "   \"David\": [\"Rock\", \"Techno\"],\n",
    "   \"Emma\":  [\"Pop\"]\n",
    "}\n",
    "\n",
    "Explanation:\n",
    "David has 2 Rock, 2 Techno and 1 Jazz song. So he has 2 favorite genres.\n",
    "Emma has 2 Pop and 1 Dubstep song. Pop is Emma's favorite genre.\n",
    "Example 2:\n",
    "\n",
    "Input:\n",
    "userSongs = {  \n",
    "   \"David\": [\"song1\", \"song2\"],\n",
    "   \"Emma\":  [\"song3\", \"song4\"]\n",
    "},\n",
    "songGenres = {}\n",
    "\n",
    "Output: {  \n",
    "   \"David\": [],\n",
    "   \"Emma\":  []\n",
    "}"
   ]
  },
  {
   "cell_type": "code",
   "execution_count": null,
   "metadata": {},
   "outputs": [],
   "source": [
    "def initialize():\n",
    "    userSongs = {  \n",
    "       \"David\": [\"song1\", \"song2\", \"song3\", \"song4\", \"song8\"],\n",
    "       \"Emma\":  [\"song5\", \"song6\", \"song7\"]\n",
    "    }\n",
    "    songGenres = {  \n",
    "       \"Rock\":    [\"song1\", \"song3\"],\n",
    "       \"Dubstep\": [\"song7\"],\n",
    "       \"Techno\":  [\"song2\", \"song4\"],\n",
    "       \"Pop\":     [\"song5\", \"song6\"],\n",
    "       \"Jazz\":    [\"song8\", \"song9\"]\n",
    "    }\n",
    "    return userSongs, songGenres\n",
    "\n",
    "def favGenres(userSongs, songGenres):\n",
    "    output = {}\n",
    "    \n",
    "    \n",
    "    return output\n",
    "\n",
    "if __name__ == '__main__':\n",
    "    userSongs, songGenres = initialize()\n",
    "    print(favGenres(userSongs, songGenres))"
   ]
  }
 ],
 "metadata": {
  "kernelspec": {
   "display_name": "Python 3",
   "language": "python",
   "name": "python3"
  },
  "language_info": {
   "codemirror_mode": {
    "name": "ipython",
    "version": 3
   },
   "file_extension": ".py",
   "mimetype": "text/x-python",
   "name": "python",
   "nbconvert_exporter": "python",
   "pygments_lexer": "ipython3",
   "version": "3.7.4"
  }
 },
 "nbformat": 4,
 "nbformat_minor": 2
}
